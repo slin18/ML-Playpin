{
 "cells": [
  {
   "cell_type": "markdown",
   "metadata": {},
   "source": [
    "Error Handing and Exceptions"
   ]
  },
  {
   "cell_type": "code",
   "execution_count": 1,
   "metadata": {
    "collapsed": true
   },
   "outputs": [],
   "source": [
    "def add(n1,n2): \n",
    "    print n1+n2"
   ]
  },
  {
   "cell_type": "code",
   "execution_count": 2,
   "metadata": {},
   "outputs": [
    {
     "name": "stdout",
     "output_type": "stream",
     "text": [
      "30\n"
     ]
    }
   ],
   "source": [
    "add(10,20)"
   ]
  },
  {
   "cell_type": "code",
   "execution_count": 3,
   "metadata": {
    "collapsed": true
   },
   "outputs": [],
   "source": [
    "number1 = 10"
   ]
  },
  {
   "cell_type": "code",
   "execution_count": 5,
   "metadata": {},
   "outputs": [
    {
     "name": "stdout",
     "output_type": "stream",
     "text": [
      "Provide a number: 20\n"
     ]
    }
   ],
   "source": [
    "number2 = input('Provide a number: ')"
   ]
  },
  {
   "cell_type": "code",
   "execution_count": 6,
   "metadata": {},
   "outputs": [
    {
     "name": "stdout",
     "output_type": "stream",
     "text": [
      "30\n"
     ]
    }
   ],
   "source": [
    "add(number1,number2)"
   ]
  },
  {
   "cell_type": "code",
   "execution_count": 9,
   "metadata": {},
   "outputs": [
    {
     "name": "stdout",
     "output_type": "stream",
     "text": [
      "addition doesn't work\n"
     ]
    }
   ],
   "source": [
    "try:\n",
    "    # attempt this code\n",
    "    result = 10 + 'string'\n",
    "    # if result has an error\n",
    "except: \n",
    "    print \"addition doesn't work\"\n",
    "# else if there's no error, do this\n",
    "else: \n",
    "    print \"addition works\"\n",
    "    print result"
   ]
  },
  {
   "cell_type": "code",
   "execution_count": 10,
   "metadata": {},
   "outputs": [
    {
     "name": "stdout",
     "output_type": "stream",
     "text": [
      "addition works\n",
      "20\n"
     ]
    }
   ],
   "source": [
    "try:\n",
    "    # attempt this code\n",
    "    result = 10 + 10\n",
    "    # if result has an error\n",
    "except: \n",
    "    print \"addition doesn't work\"\n",
    "else: \n",
    "    print \"addition works\"\n",
    "    print result"
   ]
  },
  {
   "cell_type": "code",
   "execution_count": 15,
   "metadata": {},
   "outputs": [
    {
     "name": "stdout",
     "output_type": "stream",
     "text": [
      "All other exceptions\n",
      "I always run\n"
     ]
    }
   ],
   "source": [
    "try: \n",
    "    f = open('testfile','r')\n",
    "    f.write('Write a test line')\n",
    "except TypeError: \n",
    "    print \"There was a type error!\"\n",
    "except:\n",
    "    print \"All other exceptions\"\n",
    "# this runs no matter what\n",
    "finally: \n",
    "    print \"I always run\""
   ]
  },
  {
   "cell_type": "code",
   "execution_count": 19,
   "metadata": {
    "collapsed": true
   },
   "outputs": [],
   "source": [
    "def ask_for_int(): \n",
    "    while True: \n",
    "        try: #try code\n",
    "            result = int(input('Provide number: '))\n",
    "        except: # if there's an error\n",
    "            print \"Whoops This is not a number\"\n",
    "        else: # else there's no error\n",
    "            print \"thanks\"\n",
    "            break\n",
    "        finally: \n",
    "            print \"End of try/except/finally\""
   ]
  },
  {
   "cell_type": "code",
   "execution_count": 20,
   "metadata": {},
   "outputs": [
    {
     "name": "stdout",
     "output_type": "stream",
     "text": [
      "Provide number: word\n",
      "Whoops This is not a number\n",
      "End of try/except/finally\n",
      "Provide number: Ω\n",
      "Whoops This is not a number\n",
      "End of try/except/finally\n",
      "Provide number: 12\n",
      "thanks\n",
      "End of try/except/finally\n"
     ]
    }
   ],
   "source": [
    "ask_for_int()"
   ]
  },
  {
   "cell_type": "code",
   "execution_count": 21,
   "metadata": {
    "collapsed": true
   },
   "outputs": [],
   "source": [
    "def ask_for_int(): \n",
    "    while True: \n",
    "        try: #try code\n",
    "            result = int(input('Provide number: '))\n",
    "        except: # if there's an error\n",
    "            print \"Whoops This is not a number\"\n",
    "        else: # else there's no error\n",
    "            print \"thanks\"\n",
    "            break"
   ]
  },
  {
   "cell_type": "code",
   "execution_count": 22,
   "metadata": {},
   "outputs": [
    {
     "name": "stdout",
     "output_type": "stream",
     "text": [
      "Provide number: q\n",
      "Whoops This is not a number\n",
      "Provide number: s\n",
      "Whoops This is not a number\n",
      "Provide number: 10\n",
      "thanks\n"
     ]
    }
   ],
   "source": [
    "ask_for_int()"
   ]
  },
  {
   "cell_type": "code",
   "execution_count": null,
   "metadata": {
    "collapsed": true
   },
   "outputs": [],
   "source": []
  }
 ],
 "metadata": {
  "kernelspec": {
   "display_name": "Python 2",
   "language": "python",
   "name": "python2"
  },
  "language_info": {
   "codemirror_mode": {
    "name": "ipython",
    "version": 2
   },
   "file_extension": ".py",
   "mimetype": "text/x-python",
   "name": "python",
   "nbconvert_exporter": "python",
   "pygments_lexer": "ipython2",
   "version": "2.7.14"
  }
 },
 "nbformat": 4,
 "nbformat_minor": 2
}
