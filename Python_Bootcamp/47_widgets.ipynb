{
 "cells": [
  {
   "cell_type": "code",
   "execution_count": 1,
   "metadata": {
    "collapsed": true
   },
   "outputs": [],
   "source": [
    "from ipywidgets import interact,interactive,fixed\n",
    "import ipywidgets as widgets"
   ]
  },
  {
   "cell_type": "code",
   "execution_count": 2,
   "metadata": {
    "collapsed": true
   },
   "outputs": [],
   "source": [
    "def func(x): \n",
    "    return x**2"
   ]
  },
  {
   "cell_type": "code",
   "execution_count": 5,
   "metadata": {},
   "outputs": [
    {
     "data": {
      "application/vnd.jupyter.widget-view+json": {
       "model_id": "e258cf31f3784be2b125de79a4f02614",
       "version_major": 2,
       "version_minor": 0
      },
      "text/plain": [
       "interactive(children=(IntSlider(value=10, description='x', max=30, min=-10), Output()), _dom_classes=('widget-…"
      ]
     },
     "metadata": {},
     "output_type": "display_data"
    },
    {
     "data": {
      "text/plain": [
       "<function __main__.func>"
      ]
     },
     "execution_count": 5,
     "metadata": {},
     "output_type": "execute_result"
    }
   ],
   "source": [
    "interact(func,x=10)"
   ]
  },
  {
   "cell_type": "code",
   "execution_count": 7,
   "metadata": {},
   "outputs": [
    {
     "data": {
      "application/vnd.jupyter.widget-view+json": {
       "model_id": "aef89be808df473dafa0084c6fa99571",
       "version_major": 2,
       "version_minor": 0
      },
      "text/plain": [
       "interactive(children=(Text(value='hello', description='x'), Output()), _dom_classes=('widget-interact',))"
      ]
     },
     "metadata": {},
     "output_type": "display_data"
    },
    {
     "data": {
      "text/plain": [
       "<function __main__.func>"
      ]
     },
     "execution_count": 7,
     "metadata": {},
     "output_type": "execute_result"
    }
   ],
   "source": [
    "def func(x): \n",
    "    return x\n",
    "interact(func,x='hello')"
   ]
  },
  {
   "cell_type": "code",
   "execution_count": 9,
   "metadata": {},
   "outputs": [
    {
     "data": {
      "application/vnd.jupyter.widget-view+json": {
       "model_id": "5aedb438e03f4b4cb520a6c196cdae64",
       "version_major": 2,
       "version_minor": 0
      },
      "text/plain": [
       "interactive(children=(Checkbox(value=True, description='x'), Output()), _dom_classes=('widget-interact',))"
      ]
     },
     "metadata": {},
     "output_type": "display_data"
    }
   ],
   "source": [
    "@interact(x=True,y=fixed(1.0))\n",
    "def g(x,y):\n",
    "    return(x,y)"
   ]
  },
  {
   "cell_type": "code",
   "execution_count": 11,
   "metadata": {},
   "outputs": [
    {
     "data": {
      "application/vnd.jupyter.widget-view+json": {
       "model_id": "eae2760d1dc64336ab4d70451b73f0dc",
       "version_major": 2,
       "version_minor": 0
      },
      "text/plain": [
       "interactive(children=(IntSlider(value=0, description='x', min=-100), Output()), _dom_classes=('widget-interact…"
      ]
     },
     "metadata": {},
     "output_type": "display_data"
    },
    {
     "data": {
      "text/plain": [
       "<function __main__.func>"
      ]
     },
     "execution_count": 11,
     "metadata": {},
     "output_type": "execute_result"
    }
   ],
   "source": [
    "# max = x*3, how to change max of slider?\n",
    "# value start at 0 \n",
    "interact(func,x=widgets.IntSlider(min=-100, max=100, step=1, value=0))"
   ]
  },
  {
   "cell_type": "code",
   "execution_count": 12,
   "metadata": {},
   "outputs": [
    {
     "data": {
      "application/vnd.jupyter.widget-view+json": {
       "model_id": "173147def6a643579e1ab071bb578c8b",
       "version_major": 2,
       "version_minor": 0
      },
      "text/plain": [
       "interactive(children=(FloatSlider(value=0.0, description='x', max=10.0, min=-10.0), Output()), _dom_classes=('…"
      ]
     },
     "metadata": {},
     "output_type": "display_data"
    },
    {
     "data": {
      "text/plain": [
       "<function __main__.func>"
      ]
     },
     "execution_count": 12,
     "metadata": {},
     "output_type": "execute_result"
    }
   ],
   "source": [
    "interact(func,x=(-10.0,10.0,.1))"
   ]
  },
  {
   "cell_type": "code",
   "execution_count": 13,
   "metadata": {},
   "outputs": [
    {
     "data": {
      "application/vnd.jupyter.widget-view+json": {
       "model_id": "ad58218179754203a8806f9b3332a2d8",
       "version_major": 2,
       "version_minor": 0
      },
      "text/plain": [
       "interactive(children=(Dropdown(description='x', options=('hello', 'option 2', 'option3'), value='hello'), Outp…"
      ]
     },
     "metadata": {},
     "output_type": "display_data"
    },
    {
     "data": {
      "text/plain": [
       "<function __main__.func>"
      ]
     },
     "execution_count": 13,
     "metadata": {},
     "output_type": "execute_result"
    }
   ],
   "source": [
    "interact(func,x=['hello','option 2', 'option3'])"
   ]
  },
  {
   "cell_type": "code",
   "execution_count": 20,
   "metadata": {},
   "outputs": [
    {
     "data": {
      "application/vnd.jupyter.widget-view+json": {
       "model_id": "8ce7af223ef74db6b97f3ec610dda0bc",
       "version_major": 2,
       "version_minor": 0
      },
      "text/plain": [
       "interactive(children=(Dropdown(description='x', options={'one': 10, 'two': 20}, value=10), Output()), _dom_cla…"
      ]
     },
     "metadata": {},
     "output_type": "display_data"
    }
   ],
   "source": [
    "interact(func, x={'one':10, 'two':20});"
   ]
  },
  {
   "cell_type": "code",
   "execution_count": 15,
   "metadata": {
    "collapsed": true
   },
   "outputs": [],
   "source": [
    "from IPython.display import display\n",
    "\n",
    "def f(a,b):\n",
    "    display(a+b)\n",
    "    return a+b"
   ]
  },
  {
   "cell_type": "code",
   "execution_count": 16,
   "metadata": {
    "collapsed": true
   },
   "outputs": [],
   "source": [
    "w = interactive(f,a=10,b=20)"
   ]
  },
  {
   "cell_type": "code",
   "execution_count": 17,
   "metadata": {},
   "outputs": [
    {
     "data": {
      "text/plain": [
       "ipywidgets.widgets.interaction.interactive"
      ]
     },
     "execution_count": 17,
     "metadata": {},
     "output_type": "execute_result"
    }
   ],
   "source": [
    "type(w)"
   ]
  },
  {
   "cell_type": "code",
   "execution_count": 18,
   "metadata": {},
   "outputs": [
    {
     "data": {
      "text/plain": [
       "(IntSlider(value=10, description='a', max=30, min=-10),\n",
       " IntSlider(value=20, description='b', max=60, min=-20),\n",
       " Output())"
      ]
     },
     "execution_count": 18,
     "metadata": {},
     "output_type": "execute_result"
    }
   ],
   "source": [
    "w.children"
   ]
  },
  {
   "cell_type": "code",
   "execution_count": 19,
   "metadata": {},
   "outputs": [
    {
     "data": {
      "application/vnd.jupyter.widget-view+json": {
       "model_id": "736acf92eb49437c990640533f35b5d4",
       "version_major": 2,
       "version_minor": 0
      },
      "text/plain": [
       "interactive(children=(IntSlider(value=10, description='a', max=30, min=-10), IntSlider(value=20, description='…"
      ]
     },
     "metadata": {},
     "output_type": "display_data"
    }
   ],
   "source": [
    "display(w)"
   ]
  },
  {
   "cell_type": "markdown",
   "metadata": {},
   "source": [
    "## gui widget basics"
   ]
  },
  {
   "cell_type": "code",
   "execution_count": 22,
   "metadata": {},
   "outputs": [],
   "source": [
    "w = widgets.IntSlider()"
   ]
  },
  {
   "cell_type": "code",
   "execution_count": 23,
   "metadata": {},
   "outputs": [
    {
     "data": {
      "application/vnd.jupyter.widget-view+json": {
       "model_id": "172c9ea72fdd43ffa3171c3e069e269d",
       "version_major": 2,
       "version_minor": 0
      },
      "text/plain": [
       "IntSlider(value=0)"
      ]
     },
     "metadata": {},
     "output_type": "display_data"
    }
   ],
   "source": [
    "display(w)"
   ]
  },
  {
   "cell_type": "code",
   "execution_count": 24,
   "metadata": {},
   "outputs": [
    {
     "data": {
      "text/plain": [
       "62"
      ]
     },
     "execution_count": 24,
     "metadata": {},
     "output_type": "execute_result"
    }
   ],
   "source": [
    "w.value"
   ]
  },
  {
   "cell_type": "code",
   "execution_count": 25,
   "metadata": {
    "collapsed": true
   },
   "outputs": [],
   "source": [
    "# changes the slider\n",
    "w.value = 50"
   ]
  },
  {
   "cell_type": "code",
   "execution_count": 26,
   "metadata": {},
   "outputs": [
    {
     "data": {
      "text/plain": [
       "['_view_count',\n",
       " 'layout',\n",
       " 'description',\n",
       " 'readout_format',\n",
       " '_model_module',\n",
       " '_model_module_version',\n",
       " 'max',\n",
       " 'value',\n",
       " '_view_module_version',\n",
       " 'disabled',\n",
       " 'readout',\n",
       " '_dom_classes',\n",
       " '_view_module',\n",
       " 'orientation',\n",
       " 'min',\n",
       " 'step',\n",
       " '_model_name',\n",
       " '_view_name',\n",
       " 'style',\n",
       " 'continuous_update']"
      ]
     },
     "execution_count": 26,
     "metadata": {},
     "output_type": "execute_result"
    }
   ],
   "source": [
    "w.keys"
   ]
  },
  {
   "cell_type": "code",
   "execution_count": 27,
   "metadata": {
    "collapsed": true
   },
   "outputs": [],
   "source": [
    "w.max = 1000"
   ]
  },
  {
   "cell_type": "code",
   "execution_count": 34,
   "metadata": {
    "collapsed": true
   },
   "outputs": [],
   "source": [
    "a = widgets.FloatText()\n",
    "b = widgets.FloatSlider()"
   ]
  },
  {
   "cell_type": "code",
   "execution_count": 37,
   "metadata": {},
   "outputs": [
    {
     "data": {
      "application/vnd.jupyter.widget-view+json": {
       "model_id": "60af1e2d4e11475cb55d458c62817fc1",
       "version_major": 2,
       "version_minor": 0
      },
      "text/plain": [
       "FloatText(value=10.0)"
      ]
     },
     "metadata": {},
     "output_type": "display_data"
    },
    {
     "data": {
      "application/vnd.jupyter.widget-view+json": {
       "model_id": "2f22a1366e74417fa4331c429fc8f250",
       "version_major": 2,
       "version_minor": 0
      },
      "text/plain": [
       "FloatSlider(value=7.8, max=10.0)"
      ]
     },
     "metadata": {},
     "output_type": "display_data"
    }
   ],
   "source": [
    "display(a,b)\n",
    "# value is the key, can link value to max\n",
    "mylink = widgets.jslink((a,'value'),(b,'value'))"
   ]
  },
  {
   "cell_type": "code",
   "execution_count": 36,
   "metadata": {
    "collapsed": true
   },
   "outputs": [],
   "source": [
    "mylink.unlink()"
   ]
  },
  {
   "cell_type": "markdown",
   "metadata": {},
   "source": [
    "## list of possible widgets"
   ]
  },
  {
   "cell_type": "code",
   "execution_count": 43,
   "metadata": {},
   "outputs": [
    {
     "name": "stdout",
     "output_type": "stream",
     "text": [
      "('@jupyter-widgets/base', '1.0.0', 'LayoutModel', '@jupyter-widgets/base', '1.0.0', 'LayoutView')\n",
      "('@jupyter-widgets/controls', '1.2.0', 'AccordionModel', '@jupyter-widgets/controls', '1.2.0', 'AccordionView')\n",
      "('@jupyter-widgets/controls', '1.2.0', 'BoundedFloatTextModel', '@jupyter-widgets/controls', '1.2.0', 'FloatTextView')\n",
      "('@jupyter-widgets/controls', '1.2.0', 'BoundedIntTextModel', '@jupyter-widgets/controls', '1.2.0', 'IntTextView')\n",
      "('@jupyter-widgets/controls', '1.2.0', 'BoxModel', '@jupyter-widgets/controls', '1.2.0', 'BoxView')\n",
      "('@jupyter-widgets/controls', '1.2.0', 'ButtonModel', '@jupyter-widgets/controls', '1.2.0', 'ButtonView')\n",
      "('@jupyter-widgets/controls', '1.2.0', 'ButtonStyleModel', '@jupyter-widgets/base', '1.0.0', 'StyleView')\n",
      "('@jupyter-widgets/controls', '1.2.0', 'CheckboxModel', '@jupyter-widgets/controls', '1.2.0', 'CheckboxView')\n",
      "('@jupyter-widgets/controls', '1.2.0', 'ColorPickerModel', '@jupyter-widgets/controls', '1.2.0', 'ColorPickerView')\n",
      "('@jupyter-widgets/controls', '1.2.0', 'ControllerAxisModel', '@jupyter-widgets/controls', '1.2.0', 'ControllerAxisView')\n",
      "('@jupyter-widgets/controls', '1.2.0', 'ControllerButtonModel', '@jupyter-widgets/controls', '1.2.0', 'ControllerButtonView')\n",
      "('@jupyter-widgets/controls', '1.2.0', 'ControllerModel', '@jupyter-widgets/controls', '1.2.0', 'ControllerView')\n",
      "('@jupyter-widgets/controls', '1.2.0', 'DatePickerModel', '@jupyter-widgets/controls', '1.2.0', 'DatePickerView')\n",
      "('@jupyter-widgets/controls', '1.2.0', 'DescriptionStyleModel', '@jupyter-widgets/base', '1.0.0', 'StyleView')\n",
      "('@jupyter-widgets/controls', '1.2.0', 'DirectionalLinkModel', '@jupyter-widgets/controls', '1.2.0', None)\n",
      "('@jupyter-widgets/controls', '1.2.0', 'DropdownModel', '@jupyter-widgets/controls', '1.2.0', 'DropdownView')\n",
      "('@jupyter-widgets/controls', '1.2.0', 'FloatLogSliderModel', '@jupyter-widgets/controls', '1.2.0', 'FloatLogSliderView')\n",
      "('@jupyter-widgets/controls', '1.2.0', 'FloatProgressModel', '@jupyter-widgets/controls', '1.2.0', 'ProgressView')\n",
      "('@jupyter-widgets/controls', '1.2.0', 'FloatRangeSliderModel', '@jupyter-widgets/controls', '1.2.0', 'FloatRangeSliderView')\n",
      "('@jupyter-widgets/controls', '1.2.0', 'FloatSliderModel', '@jupyter-widgets/controls', '1.2.0', 'FloatSliderView')\n",
      "('@jupyter-widgets/controls', '1.2.0', 'FloatTextModel', '@jupyter-widgets/controls', '1.2.0', 'FloatTextView')\n",
      "('@jupyter-widgets/controls', '1.2.0', 'HBoxModel', '@jupyter-widgets/controls', '1.2.0', 'HBoxView')\n",
      "('@jupyter-widgets/controls', '1.2.0', 'HTMLMathModel', '@jupyter-widgets/controls', '1.2.0', 'HTMLMathView')\n",
      "('@jupyter-widgets/controls', '1.2.0', 'HTMLModel', '@jupyter-widgets/controls', '1.2.0', 'HTMLView')\n",
      "('@jupyter-widgets/controls', '1.2.0', 'ImageModel', '@jupyter-widgets/controls', '1.2.0', 'ImageView')\n",
      "('@jupyter-widgets/controls', '1.2.0', 'IntProgressModel', '@jupyter-widgets/controls', '1.2.0', 'ProgressView')\n",
      "('@jupyter-widgets/controls', '1.2.0', 'IntRangeSliderModel', '@jupyter-widgets/controls', '1.2.0', 'IntRangeSliderView')\n",
      "('@jupyter-widgets/controls', '1.2.0', 'IntSliderModel', '@jupyter-widgets/controls', '1.2.0', 'IntSliderView')\n",
      "('@jupyter-widgets/controls', '1.2.0', 'IntTextModel', '@jupyter-widgets/controls', '1.2.0', 'IntTextView')\n",
      "('@jupyter-widgets/controls', '1.2.0', 'LabelModel', '@jupyter-widgets/controls', '1.2.0', 'LabelView')\n",
      "('@jupyter-widgets/controls', '1.2.0', 'LinkModel', '@jupyter-widgets/controls', '1.2.0', None)\n",
      "('@jupyter-widgets/controls', '1.2.0', 'PasswordModel', '@jupyter-widgets/controls', '1.2.0', 'PasswordView')\n",
      "('@jupyter-widgets/controls', '1.2.0', 'PlayModel', '@jupyter-widgets/controls', '1.2.0', 'PlayView')\n",
      "('@jupyter-widgets/controls', '1.2.0', 'ProgressStyleModel', '@jupyter-widgets/base', '1.0.0', 'StyleView')\n",
      "('@jupyter-widgets/controls', '1.2.0', 'RadioButtonsModel', '@jupyter-widgets/controls', '1.2.0', 'RadioButtonsView')\n",
      "('@jupyter-widgets/controls', '1.2.0', 'SelectModel', '@jupyter-widgets/controls', '1.2.0', 'SelectView')\n",
      "('@jupyter-widgets/controls', '1.2.0', 'SelectMultipleModel', '@jupyter-widgets/controls', '1.2.0', 'SelectMultipleView')\n",
      "('@jupyter-widgets/controls', '1.2.0', 'SelectionRangeSliderModel', '@jupyter-widgets/controls', '1.2.0', 'SelectionRangeSliderView')\n",
      "('@jupyter-widgets/controls', '1.2.0', 'SelectionSliderModel', '@jupyter-widgets/controls', '1.2.0', 'SelectionSliderView')\n",
      "('@jupyter-widgets/controls', '1.2.0', 'SliderStyleModel', '@jupyter-widgets/base', '1.0.0', 'StyleView')\n",
      "('@jupyter-widgets/controls', '1.2.0', 'TabModel', '@jupyter-widgets/controls', '1.2.0', 'TabView')\n",
      "('@jupyter-widgets/controls', '1.2.0', 'TextModel', '@jupyter-widgets/controls', '1.2.0', 'TextView')\n",
      "('@jupyter-widgets/controls', '1.2.0', 'TextareaModel', '@jupyter-widgets/controls', '1.2.0', 'TextareaView')\n",
      "('@jupyter-widgets/controls', '1.2.0', 'ToggleButtonModel', '@jupyter-widgets/controls', '1.2.0', 'ToggleButtonView')\n",
      "('@jupyter-widgets/controls', '1.2.0', 'ToggleButtonsModel', '@jupyter-widgets/controls', '1.2.0', 'ToggleButtonsView')\n",
      "('@jupyter-widgets/controls', '1.2.0', 'ToggleButtonsStyleModel', '@jupyter-widgets/base', '1.0.0', 'StyleView')\n",
      "('@jupyter-widgets/controls', '1.2.0', 'VBoxModel', '@jupyter-widgets/controls', '1.2.0', 'VBoxView')\n",
      "('@jupyter-widgets/controls', '1.2.0', 'ValidModel', '@jupyter-widgets/controls', '1.2.0', 'ValidView')\n",
      "('@jupyter-widgets/output', '1.0.0', 'OutputModel', '@jupyter-widgets/output', '1.0.0', 'OutputView')\n"
     ]
    }
   ],
   "source": [
    "import ipywidgets as widgets \n",
    "\n",
    "for item in widgets.Widget.widget_types.items(): \n",
    "    print(item[0])"
   ]
  },
  {
   "cell_type": "code",
   "execution_count": null,
   "metadata": {
    "collapsed": true
   },
   "outputs": [],
   "source": []
  }
 ],
 "metadata": {
  "kernelspec": {
   "display_name": "Python 3",
   "language": "python",
   "name": "python3"
  },
  "language_info": {
   "codemirror_mode": {
    "name": "ipython",
    "version": 3
   },
   "file_extension": ".py",
   "mimetype": "text/x-python",
   "name": "python",
   "nbconvert_exporter": "python",
   "pygments_lexer": "ipython3",
   "version": "3.5.0"
  }
 },
 "nbformat": 4,
 "nbformat_minor": 2
}
