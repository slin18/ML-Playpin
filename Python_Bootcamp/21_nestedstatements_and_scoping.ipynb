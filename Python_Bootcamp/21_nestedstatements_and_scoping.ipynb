{
 "cells": [
  {
   "cell_type": "markdown",
   "metadata": {},
   "source": [
    "## Nested statements and scoping\n",
    "variable stored in name space\n",
    "\n",
    "variables have scope, determine visibility towards your code"
   ]
  },
  {
   "cell_type": "code",
   "execution_count": 1,
   "metadata": {
    "collapsed": true
   },
   "outputs": [],
   "source": [
    "x = 25\n",
    "def printer(): \n",
    "    x=50\n",
    "    return x\n"
   ]
  },
  {
   "cell_type": "code",
   "execution_count": 3,
   "metadata": {},
   "outputs": [
    {
     "name": "stdout",
     "output_type": "stream",
     "text": [
      "25\n"
     ]
    }
   ],
   "source": [
    "print x"
   ]
  },
  {
   "cell_type": "code",
   "execution_count": 4,
   "metadata": {},
   "outputs": [
    {
     "name": "stdout",
     "output_type": "stream",
     "text": [
      "50\n"
     ]
    }
   ],
   "source": [
    "print printer()"
   ]
  },
  {
   "cell_type": "markdown",
   "metadata": {},
   "source": [
    "local scope - name assigned within a function/lambda\n",
    "\n",
    "enclosing function locals - name in local scope of any and all enclosing functions from inner to outer\n",
    "\n",
    "global - names at top of level or declared global in def\n",
    "\n",
    "built -  in python functions"
   ]
  },
  {
   "cell_type": "code",
   "execution_count": 6,
   "metadata": {},
   "outputs": [
    {
     "name": "stdout",
     "output_type": "stream",
     "text": [
      "hello sammy\n"
     ]
    }
   ],
   "source": [
    "name = 'this is a global name'\n",
    "\n",
    "def greet(): \n",
    "    # enclosing function\n",
    "    name = 'sammy'\n",
    "    def hello(): \n",
    "        print 'hello '+name\n",
    "    hello()\n",
    "greet()"
   ]
  },
  {
   "cell_type": "markdown",
   "metadata": {},
   "source": [
    "found in enclosing function so it won't go to global scope to find variable NAME"
   ]
  },
  {
   "cell_type": "code",
   "execution_count": 8,
   "metadata": {},
   "outputs": [
    {
     "data": {
      "text/plain": [
       "<function len>"
      ]
     },
     "execution_count": 8,
     "metadata": {},
     "output_type": "execute_result"
    }
   ],
   "source": [
    "# BUILT in function\n",
    "len"
   ]
  },
  {
   "cell_type": "code",
   "execution_count": 10,
   "metadata": {},
   "outputs": [
    {
     "name": "stdout",
     "output_type": "stream",
     "text": [
      "x is 50\n",
      "changed local x to 2\n",
      "x is still  50\n"
     ]
    }
   ],
   "source": [
    "x = 50 \n",
    "def func(x): \n",
    "# grab x from global\n",
    "    print 'x is', x\n",
    "# change local x to 2\n",
    "    x = 2\n",
    "    print 'changed local x to', x\n",
    "# change affected only on local level\n",
    "func(x)\n",
    "print 'x is still ',x"
   ]
  },
  {
   "cell_type": "code",
   "execution_count": 12,
   "metadata": {},
   "outputs": [
    {
     "name": "stdout",
     "output_type": "stream",
     "text": [
      "before calling func(), x is: 50\n",
      "this func is using the global x!\n",
      "because of global x is: 50\n",
      "Ran func(), changed global x to 2\n",
      "value of x outside of func is: 2\n"
     ]
    }
   ],
   "source": [
    "x = 50 \n",
    "def func(): \n",
    "    # looking for global x, any changes made will affect x globally\n",
    "    global x\n",
    "    print 'this func is using the global x!'\n",
    "    print 'because of global x is:', x\n",
    "    x = 2\n",
    "    print 'Ran func(), changed global x to',x  \n",
    "print 'before calling func(), x is:',x\n",
    "func()\n",
    "print 'value of x outside of func is:',x"
   ]
  },
  {
   "cell_type": "code",
   "execution_count": null,
   "metadata": {
    "collapsed": true
   },
   "outputs": [],
   "source": []
  }
 ],
 "metadata": {
  "kernelspec": {
   "display_name": "Python 2",
   "language": "python",
   "name": "python2"
  },
  "language_info": {
   "codemirror_mode": {
    "name": "ipython",
    "version": 2
   },
   "file_extension": ".py",
   "mimetype": "text/x-python",
   "name": "python",
   "nbconvert_exporter": "python",
   "pygments_lexer": "ipython2",
   "version": "2.7.14"
  }
 },
 "nbformat": 4,
 "nbformat_minor": 2
}
