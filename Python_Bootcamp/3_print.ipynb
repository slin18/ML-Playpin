{
 "cells": [
  {
   "cell_type": "markdown",
   "metadata": {},
   "source": [
    "## Print Formatting"
   ]
  },
  {
   "cell_type": "code",
   "execution_count": 2,
   "metadata": {},
   "outputs": [
    {
     "name": "stdout",
     "output_type": "stream",
     "text": [
      "This is a string\n"
     ]
    }
   ],
   "source": [
    "print('This is a string')"
   ]
  },
  {
   "cell_type": "code",
   "execution_count": 3,
   "metadata": {},
   "outputs": [],
   "source": [
    "s = 'Hello World'"
   ]
  },
  {
   "cell_type": "code",
   "execution_count": 4,
   "metadata": {},
   "outputs": [
    {
     "name": "stdout",
     "output_type": "stream",
     "text": [
      "Place my variable here: Hello World\n"
     ]
    }
   ],
   "source": [
    "print('Place my variable here: %s' %s)"
   ]
  },
  {
   "cell_type": "code",
   "execution_count": 12,
   "metadata": {},
   "outputs": [
    {
     "name": "stdout",
     "output_type": "stream",
     "text": [
      "Floating number: 13.96\n",
      "Floating number: 13.9568900000\n",
      "Floating number:                     13.96\n"
     ]
    }
   ],
   "source": [
    "# first number is number of spaces\n",
    "# second number is amount of space printed after \n",
    "print('Floating number: %1.2f' %(13.95689))\n",
    "print('Floating number: %1.10f' %(13.95689))\n",
    "print('Floating number: %25.2f' %(13.95689))"
   ]
  },
  {
   "cell_type": "code",
   "execution_count": 14,
   "metadata": {},
   "outputs": [
    {
     "name": "stdout",
     "output_type": "stream",
     "text": [
      "Convert to string: 123.25\n",
      "Convert to string: 123.25\n"
     ]
    }
   ],
   "source": [
    "# %s and %r use different methods \n",
    "print('Convert to string: %s' %(123.25))\n",
    "print('Convert to string: %r' %(123.25))"
   ]
  },
  {
   "cell_type": "code",
   "execution_count": 19,
   "metadata": {},
   "outputs": [
    {
     "name": "stdout",
     "output_type": "stream",
     "text": [
      "First: 1, Second: 2, Third: 3.0\n"
     ]
    }
   ],
   "source": [
    "print('First: %s, Second: %s, Third: %s' %(1, 2, 3.0))"
   ]
  },
  {
   "cell_type": "code",
   "execution_count": 5,
   "metadata": {},
   "outputs": [
    {
     "name": "stdout",
     "output_type": "stream",
     "text": [
      "First: inserted Second: two Third: inserted\n"
     ]
    }
   ],
   "source": [
    "print('First: {x} Second: {y} Third: {x}'.format(x='inserted', y='two'))"
   ]
  },
  {
   "cell_type": "code",
   "execution_count": null,
   "metadata": {},
   "outputs": [],
   "source": [
    "# for python 2 to use python 3\n",
    "# from __future__ import print_function to use python 3  print()"
   ]
  }
 ],
 "metadata": {
  "kernelspec": {
   "display_name": "Python 3",
   "language": "python",
   "name": "python3"
  },
  "language_info": {
   "codemirror_mode": {
    "name": "ipython",
    "version": 3
   },
   "file_extension": ".py",
   "mimetype": "text/x-python",
   "name": "python",
   "nbconvert_exporter": "python",
   "pygments_lexer": "ipython3",
   "version": "3.5.4"
  }
 },
 "nbformat": 4,
 "nbformat_minor": 2
}
