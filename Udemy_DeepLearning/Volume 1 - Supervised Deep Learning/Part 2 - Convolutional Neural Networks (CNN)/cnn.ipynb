{
 "cells": [
  {
   "cell_type": "markdown",
   "metadata": {},
   "source": [
    "# Convolution Neural Network\n",
    "\n",
    "Note that this is an add-on to MLUdemy/8_DeepLearning "
   ]
  },
  {
   "cell_type": "markdown",
   "metadata": {},
   "source": [
    "### Part 1 - Building the CNN "
   ]
  },
  {
   "cell_type": "markdown",
   "metadata": {},
   "source": [
    "Sequential - initialize our nn as sequence of layers, cnn is sequence of layers \n",
    "- 1st step to making cnn, add convolutional layers, since we're working on images (2d objects), videos are 3d\n",
    "- 2nd step - add pooling layers in 2d\n",
    "- 3rd step - flatten to convert pool feature maps thru convo and maxpooling to become feature vector\n",
    "- 4th step - add connected layers and ann"
   ]
  },
  {
   "cell_type": "code",
   "execution_count": 6,
   "metadata": {
    "collapsed": true
   },
   "outputs": [],
   "source": [
    "from keras.models import Sequential\n",
    "from keras.layers import Convolution2D, MaxPooling2D, Flatten, Dense"
   ]
  },
  {
   "cell_type": "code",
   "execution_count": 2,
   "metadata": {
    "collapsed": true
   },
   "outputs": [],
   "source": [
    "# initialize CNN\n",
    "# making a clf some images if dog or cat\n",
    "classifier = Sequential()\n",
    "# cnn is initialized"
   ]
  },
  {
   "cell_type": "code",
   "execution_count": 3,
   "metadata": {
    "collapsed": true
   },
   "outputs": [],
   "source": [
    "# step 1 - convolution\n",
    "# 32,3,3 -> 32 feature detectors, 3 x 3 dimensions \n",
    "# input_shape = expected format of our images (colored image 3d, black and white image 2d) \n",
    "# (64,64,3) -> 64x64 size image, 3 = color image, 2 = black and white -> number of channels, \n",
    "# be careful tensorflow backend and theano backend are different format for above line is different\n",
    "# use rectify/relu activation function because we need nonlinearity for images \n",
    "classifier.add(Convolution2D(32,(3,3), input_shape = (64,64,3), activation = 'relu'))"
   ]
  },
  {
   "cell_type": "code",
   "execution_count": 7,
   "metadata": {},
   "outputs": [],
   "source": [
    "# step 2 - pooling \n",
    "# pooling is used to reduce size of feature map by 2 (divided by 2)\n",
    "classifier.add(MaxPooling2D(pool_size=(2,2)))"
   ]
  },
  {
   "cell_type": "code",
   "execution_count": 8,
   "metadata": {
    "collapsed": true
   },
   "outputs": [],
   "source": [
    "# Add another convolution layer\n",
    "# at this point we have the pooled feature maps, so we don't need input_shape\n",
    "# then you can change feature detectors to a different value for increased accuracy \n",
    "classifier.add(Convolution2D(32,(3,3), activation = 'relu'))\n",
    "classifier.add(MaxPooling2D(pool_size=(2,2)))"
   ]
  },
  {
   "cell_type": "code",
   "execution_count": 9,
   "metadata": {
    "collapsed": true
   },
   "outputs": [],
   "source": [
    "# step 3 - flatten\n",
    "# feature map flattening into one vector \n",
    "# high numbers represent spatial structure (or specific detail) of input image  \n",
    "# feature map corresponds to one specific feature of the image, each node that has a high number\n",
    "classifier.add(Flatten())"
   ]
  },
  {
   "cell_type": "code",
   "execution_count": 10,
   "metadata": {
    "collapsed": true
   },
   "outputs": [],
   "source": [
    "# Step 4 - full connection\n",
    "# number of nodes in hidden layer choose between # of input nodes and # of output nodes\n",
    "# activate neurons with this activation function \n",
    "classifier.add(Dense(units = 128, activation = 'relu'))\n",
    "# cat or dog is binary outcome (soft max for more than two outcomes)\n",
    "# expect one node that tells you dog or cat \n",
    "classifier.add(Dense(units = 1, activation = 'sigmoid'))\n"
   ]
  },
  {
   "cell_type": "code",
   "execution_count": 11,
   "metadata": {
    "collapsed": true
   },
   "outputs": [],
   "source": [
    "# Compiling the CNN \n",
    "# adam algo, loss func is binary crossentropy, because classification problem and binary outcome (categorical_crossentropy for more than two)\n",
    "# performance metric - accuracy is most common one\n",
    "classifier.compile(optimizer = 'adam', loss = 'binary_crossentropy', metrics = ['accuracy'])"
   ]
  },
  {
   "cell_type": "markdown",
   "metadata": {},
   "source": [
    "### Part 2 - Fitting the CNN to the images # Part  "
   ]
  },
  {
   "cell_type": "code",
   "execution_count": 12,
   "metadata": {},
   "outputs": [
    {
     "name": "stdout",
     "output_type": "stream",
     "text": [
      "Found 8000 images belonging to 2 classes.\n",
      "Found 2000 images belonging to 2 classes.\n",
      "Epoch 1/25\n",
      "250/250 [==============================] - 57s 227ms/step - loss: 0.6886 - acc: 0.5480 - val_loss: 0.6714 - val_acc: 0.5640\n",
      "Epoch 2/25\n",
      "250/250 [==============================] - 54s 215ms/step - loss: 0.6293 - acc: 0.6475 - val_loss: 0.6034 - val_acc: 0.6734\n",
      "Epoch 3/25\n",
      "250/250 [==============================] - 54s 217ms/step - loss: 0.5833 - acc: 0.6933 - val_loss: 0.5653 - val_acc: 0.7082\n",
      "Epoch 4/25\n",
      "250/250 [==============================] - 54s 215ms/step - loss: 0.5462 - acc: 0.7229 - val_loss: 0.5515 - val_acc: 0.7303\n",
      "Epoch 5/25\n",
      "250/250 [==============================] - 53s 211ms/step - loss: 0.5280 - acc: 0.7339 - val_loss: 0.5424 - val_acc: 0.7243\n",
      "Epoch 6/25\n",
      "250/250 [==============================] - 53s 210ms/step - loss: 0.5068 - acc: 0.7489 - val_loss: 0.5053 - val_acc: 0.7540\n",
      "Epoch 7/25\n",
      "250/250 [==============================] - 52s 209ms/step - loss: 0.4912 - acc: 0.7647 - val_loss: 0.4888 - val_acc: 0.7626\n",
      "Epoch 8/25\n",
      "250/250 [==============================] - 53s 210ms/step - loss: 0.4745 - acc: 0.7729 - val_loss: 0.4854 - val_acc: 0.7722\n",
      "Epoch 9/25\n",
      "250/250 [==============================] - 53s 210ms/step - loss: 0.4688 - acc: 0.7739 - val_loss: 0.5072 - val_acc: 0.7475\n",
      "Epoch 10/25\n",
      "250/250 [==============================] - 57s 228ms/step - loss: 0.4549 - acc: 0.7834 - val_loss: 0.4654 - val_acc: 0.7843\n",
      "Epoch 11/25\n",
      "250/250 [==============================] - 53s 211ms/step - loss: 0.4443 - acc: 0.7914 - val_loss: 0.4889 - val_acc: 0.7833\n",
      "Epoch 12/25\n",
      "250/250 [==============================] - 54s 218ms/step - loss: 0.4385 - acc: 0.7956 - val_loss: 0.4755 - val_acc: 0.7737\n",
      "Epoch 13/25\n",
      "250/250 [==============================] - 54s 216ms/step - loss: 0.4221 - acc: 0.8055 - val_loss: 0.4664 - val_acc: 0.7949\n",
      "Epoch 14/25\n",
      "250/250 [==============================] - 51s 202ms/step - loss: 0.4106 - acc: 0.8106 - val_loss: 0.4638 - val_acc: 0.7868\n",
      "Epoch 15/25\n",
      "250/250 [==============================] - 64097s 256s/step - loss: 0.4001 - acc: 0.8181 - val_loss: 0.4782 - val_acc: 0.7933\n",
      "Epoch 16/25\n",
      "250/250 [==============================] - 96s 383ms/step - loss: 0.3928 - acc: 0.8173 - val_loss: 0.4578 - val_acc: 0.7858\n",
      "Epoch 17/25\n",
      "250/250 [==============================] - 55s 221ms/step - loss: 0.3855 - acc: 0.8296 - val_loss: 0.5069 - val_acc: 0.7833\n",
      "Epoch 18/25\n",
      "250/250 [==============================] - 54s 215ms/step - loss: 0.3765 - acc: 0.8290 - val_loss: 0.4723 - val_acc: 0.7903\n",
      "Epoch 19/25\n",
      "250/250 [==============================] - 52s 210ms/step - loss: 0.3739 - acc: 0.8373 - val_loss: 0.4648 - val_acc: 0.7883\n",
      "Epoch 20/25\n",
      "250/250 [==============================] - 55s 221ms/step - loss: 0.3646 - acc: 0.8389 - val_loss: 0.5320 - val_acc: 0.7702\n",
      "Epoch 21/25\n",
      "250/250 [==============================] - 54s 214ms/step - loss: 0.3583 - acc: 0.8397 - val_loss: 0.4860 - val_acc: 0.7918\n",
      "Epoch 22/25\n",
      "250/250 [==============================] - 52s 208ms/step - loss: 0.3484 - acc: 0.8449 - val_loss: 0.4664 - val_acc: 0.8049\n",
      "Epoch 23/25\n",
      "250/250 [==============================] - 53s 210ms/step - loss: 0.3356 - acc: 0.8520 - val_loss: 0.5125 - val_acc: 0.7853\n",
      "Epoch 24/25\n",
      "250/250 [==============================] - 52s 207ms/step - loss: 0.3357 - acc: 0.8516 - val_loss: 0.4809 - val_acc: 0.7994\n",
      "Epoch 25/25\n",
      "250/250 [==============================] - 53s 213ms/step - loss: 0.3423 - acc: 0.8460 - val_loss: 0.4888 - val_acc: 0.7994\n"
     ]
    },
    {
     "data": {
      "text/plain": [
       "<keras.callbacks.History at 0x1821dff250>"
      ]
     },
     "execution_count": 12,
     "metadata": {},
     "output_type": "execute_result"
    }
   ],
   "source": [
    "# image augmentation allows us to enrich our datasets without adding more images with little or no overfitting\n",
    "from keras.preprocessing.image import ImageDataGenerator\n",
    "\n",
    "# image scaling, shearing = geometric transformation, zoom range = random zoom, horizontal_flip = flip images \n",
    "train_datagen = ImageDataGenerator(\n",
    "        #rescale pixel values between 0 or 1, because pixels take value from 0 to 255\n",
    "        rescale=1./255,\n",
    "        shear_range=0.2,\n",
    "        zoom_range=0.2,\n",
    "        horizontal_flip=True)\n",
    "# rescale images of our test set\n",
    "test_datagen = ImageDataGenerator(rescale=1./255)\n",
    "# train and valid generator create training and test/validation set \n",
    "training_set = train_datagen.flow_from_directory(\n",
    "        'dataset/training_set',\n",
    "        # dimensions expected from CNN input_shape (64,64,3)\n",
    "        target_size=(64, 64),\n",
    "        # number of images that will go through CNN\n",
    "        batch_size=32,\n",
    "        class_mode='binary')\n",
    "\n",
    "test_set = test_datagen.flow_from_directory(\n",
    "        'dataset/test_set',\n",
    "        target_size=(64, 64),\n",
    "        batch_size=32,\n",
    "        class_mode='binary')\n",
    "\n",
    "# fit cnn onto training set and testing peformance on test set\n",
    "# steps_per_epoch = no of train samples/batch_size and validation_steps = no of validation samples/batch_size\n",
    "classifier.fit_generator(\n",
    "        training_set,\n",
    "        steps_per_epoch=8000/32,\n",
    "        epochs=25,\n",
    "        validation_data=test_set,\n",
    "        validation_steps=2000/32)"
   ]
  },
  {
   "cell_type": "markdown",
   "metadata": {},
   "source": [
    "Next steps\n",
    "- add another convolution layer or/and\n",
    "- add another fully connected layer to get 80% accuracy \n",
    "- insert below after first pooling"
   ]
  },
  {
   "cell_type": "markdown",
   "metadata": {},
   "source": [
    "### Part 3 - Making new predictions"
   ]
  },
  {
   "cell_type": "code",
   "execution_count": 13,
   "metadata": {
    "collapsed": true
   },
   "outputs": [],
   "source": [
    "import numpy as np\n",
    "from keras.preprocessing import image"
   ]
  },
  {
   "cell_type": "code",
   "execution_count": 14,
   "metadata": {
    "collapsed": true
   },
   "outputs": [],
   "source": [
    "# must match target size\n",
    "test_image = image.load_img('dataset/single_prediction/cat_or_dog_1.jpg',target_size = (64,64))"
   ]
  },
  {
   "cell_type": "code",
   "execution_count": 15,
   "metadata": {
    "collapsed": true
   },
   "outputs": [],
   "source": [
    "# image of 2-d (64,64) to 3-d array (64,64,3) \n",
    "# matches exactly as the input \n",
    "test_image = image.img_to_array(test_image)"
   ]
  },
  {
   "cell_type": "code",
   "execution_count": 17,
   "metadata": {
    "collapsed": true
   },
   "outputs": [],
   "source": [
    "# ValueError: Error when checking input: expected conv2d_1_input to have 4 dimensions, but got array with shape (64, 64, 3)\n",
    "# therefore need to add dimension\n",
    "# this missing dimension corresponds to the batch that will contain how many inputs (1 or many)\n",
    "test_image = np.expand_dims(test_image, axis = 0)\n",
    "# now we have a (1,64,64,3)"
   ]
  },
  {
   "cell_type": "code",
   "execution_count": 19,
   "metadata": {},
   "outputs": [],
   "source": [
    "result = classifier.predict(test_image)"
   ]
  },
  {
   "cell_type": "code",
   "execution_count": 21,
   "metadata": {},
   "outputs": [
    {
     "data": {
      "text/plain": [
       "{'cats': 0, 'dogs': 1}"
      ]
     },
     "execution_count": 21,
     "metadata": {},
     "output_type": "execute_result"
    }
   ],
   "source": [
    "training_set.class_indices"
   ]
  },
  {
   "cell_type": "code",
   "execution_count": 23,
   "metadata": {},
   "outputs": [
    {
     "data": {
      "text/plain": [
       "'dog'"
      ]
     },
     "execution_count": 23,
     "metadata": {},
     "output_type": "execute_result"
    }
   ],
   "source": [
    "if result[0][0] == 1:\n",
    "    prediction = 'dog'\n",
    "else: \n",
    "    prediction = 'cat'\n",
    "prediction"
   ]
  },
  {
   "cell_type": "code",
   "execution_count": 29,
   "metadata": {
    "collapsed": true
   },
   "outputs": [],
   "source": [
    "# must match target size\n",
    "test_image = image.load_img('dataset/single_prediction/cat_or_dog_2.jpg',target_size = (64,64))"
   ]
  },
  {
   "cell_type": "code",
   "execution_count": 30,
   "metadata": {
    "collapsed": true
   },
   "outputs": [],
   "source": [
    "# image of 2-d (64,64) to 3-d array (64,64,3) \n",
    "# matches exactly as the input \n",
    "test_image = image.img_to_array(test_image)"
   ]
  },
  {
   "cell_type": "code",
   "execution_count": 31,
   "metadata": {
    "collapsed": true
   },
   "outputs": [],
   "source": [
    "# ValueError: Error when checking input: expected conv2d_1_input to have 4 dimensions, but got array with shape (64, 64, 3)\n",
    "# therefore need to add dimension\n",
    "# this missing dimension corresponds to the batch that will contain how many inputs (1 or many)\n",
    "test_image = np.expand_dims(test_image, axis = 0)\n",
    "# now we have a (1,64,64,3)"
   ]
  },
  {
   "cell_type": "code",
   "execution_count": 34,
   "metadata": {},
   "outputs": [
    {
     "data": {
      "text/plain": [
       "array([[ 0.]], dtype=float32)"
      ]
     },
     "execution_count": 34,
     "metadata": {},
     "output_type": "execute_result"
    }
   ],
   "source": [
    "result = classifier.predict(test_image)\n",
    "result"
   ]
  },
  {
   "cell_type": "code",
   "execution_count": 36,
   "metadata": {},
   "outputs": [
    {
     "data": {
      "text/plain": [
       "'cat'"
      ]
     },
     "execution_count": 36,
     "metadata": {},
     "output_type": "execute_result"
    }
   ],
   "source": [
    "if int(result[0][0]) == 1:\n",
    "    prediction = 'dog'\n",
    "else: \n",
    "    prediction = 'cat'\n",
    "prediction"
   ]
  },
  {
   "cell_type": "code",
   "execution_count": null,
   "metadata": {
    "collapsed": true
   },
   "outputs": [],
   "source": []
  }
 ],
 "metadata": {
  "kernelspec": {
   "display_name": "Python 2",
   "language": "python",
   "name": "python2"
  },
  "language_info": {
   "codemirror_mode": {
    "name": "ipython",
    "version": 2
   },
   "file_extension": ".py",
   "mimetype": "text/x-python",
   "name": "python",
   "nbconvert_exporter": "python",
   "pygments_lexer": "ipython2",
   "version": "2.7.14"
  }
 },
 "nbformat": 4,
 "nbformat_minor": 2
}
