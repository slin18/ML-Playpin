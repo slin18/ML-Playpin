{
 "cells": [
  {
   "cell_type": "markdown",
   "metadata": {},
   "source": [
    "# Lebron James \n",
    "Purpose: PySpark Hands-on code\n",
    "\n",
    "Data Preprocessing, Exploratory Data Analysis, Machine Learning\n",
    "\n",
    "\n",
    "![](lebronjames.jpeg)"
   ]
  },
  {
   "cell_type": "code",
   "execution_count": 1,
   "metadata": {},
   "outputs": [],
   "source": [
    "import findspark\n",
    "findspark.init('/home/sam/spark-2.3.0-bin-hadoop2.7')"
   ]
  },
  {
   "cell_type": "code",
   "execution_count": 2,
   "metadata": {},
   "outputs": [],
   "source": [
    "from pyspark.sql import SparkSession"
   ]
  },
  {
   "cell_type": "code",
   "execution_count": 3,
   "metadata": {},
   "outputs": [],
   "source": [
    "spark = SparkSession.builder.appName('lebron').getOrCreate()"
   ]
  },
  {
   "cell_type": "code",
   "execution_count": 4,
   "metadata": {},
   "outputs": [],
   "source": [
    "data = spark.read.csv('data/LebronJamesRegularSeason.csv', inferSchema = True, header = True)"
   ]
  },
  {
   "cell_type": "markdown",
   "metadata": {},
   "source": [
    "### Peek at Data \n",
    "Lebron James Stats from: www.basketball-reference.com/players/j/jamesle01/gamelog/2018\n",
    "- Rank (RK)\n",
    "- Season Game (G)\n",
    "- Date when Game was played (Date): YYYY-MM-DD\n",
    "- Age (Age): Year-Day\n",
    "- Team (Tm)\n",
    "- column 5: away or home, if @ is present, then Lebron is Away\n",
    "- Opponent (Opp)\n",
    "- column 7: W/L (+/- final score difference)\n",
    "- Game Started (GS): 1/0 \n",
    "- Minutes Played (MP)\n",
    "- Field Goal Made (FG)\n",
    "- Field Goal Attempts (FGA)\n",
    "- Field Goal Percentage (FG%)\n",
    "- 3-pt field goals (3P)\n",
    "- 3-pt field goal attempts (3PA)\n",
    "- Free throw (FT)\n",
    "- Free throw attempts (FTA)\n",
    "- Free throw percentage (FT%)\n",
    "- Offence Rebound (ORB)\n",
    "- Defensive Rebound (DRB)\n",
    "- Total Rebound (TRB)\n",
    "- Assists (AST)\n",
    "- Steals (STL)\n",
    "- Blocks (BLK)\n",
    "- TurnOver (TOV)\n",
    "- Personal Fouls (PF)\n",
    "- Game Score (GmSc): the formula is $$ PTS + 0.4  FG - 0.7 \\times FGA - 0.4 \\times (FTA - FT) + 0.7 \\times ORB + 0.3 \\times DRB + STL + 0.7 \\times AST + 0.7 \\times BLK - 0.4 \\times PF - TOV$$ Game Score was created by John Hollinger to give a rough measure of a player's productivity for a single game. The scale is similar to that of points scored, (40 is an outstanding performance, 10 is an average performance, etc.)\n",
    "- +/-: reflects how well the team did when Lebron was on the court. Ex: +5 means Cavs outscored team by 5 when Lebron was on court\n",
    "\n",
    "For more definitions go to https://www.basketball-reference.com/about/glossary.html"
   ]
  },
  {
   "cell_type": "code",
   "execution_count": 5,
   "metadata": {},
   "outputs": [
    {
     "name": "stdout",
     "output_type": "stream",
     "text": [
      "root\n",
      " |-- Rk: integer (nullable = true)\n",
      " |-- G: integer (nullable = true)\n",
      " |-- Date: string (nullable = true)\n",
      " |-- Age: string (nullable = true)\n",
      " |-- Tm: string (nullable = true)\n",
      " |-- _c5: string (nullable = true)\n",
      " |-- Opp: string (nullable = true)\n",
      " |-- _c7: string (nullable = true)\n",
      " |-- GS: integer (nullable = true)\n",
      " |-- MP: string (nullable = true)\n",
      " |-- FG: integer (nullable = true)\n",
      " |-- FGA: integer (nullable = true)\n",
      " |-- FG%: double (nullable = true)\n",
      " |-- 3P: integer (nullable = true)\n",
      " |-- 3PA: integer (nullable = true)\n",
      " |-- 3P%: double (nullable = true)\n",
      " |-- FT: integer (nullable = true)\n",
      " |-- FTA: integer (nullable = true)\n",
      " |-- FT%: double (nullable = true)\n",
      " |-- ORB: integer (nullable = true)\n",
      " |-- DRB: integer (nullable = true)\n",
      " |-- TRB: integer (nullable = true)\n",
      " |-- AST: integer (nullable = true)\n",
      " |-- STL: integer (nullable = true)\n",
      " |-- BLK: integer (nullable = true)\n",
      " |-- TOV: integer (nullable = true)\n",
      " |-- PF: integer (nullable = true)\n",
      " |-- PTS: integer (nullable = true)\n",
      " |-- GmSc: double (nullable = true)\n",
      " |-- +/-: integer (nullable = true)\n",
      "\n"
     ]
    }
   ],
   "source": [
    "data.printSchema()"
   ]
  },
  {
   "cell_type": "code",
   "execution_count": 6,
   "metadata": {},
   "outputs": [
    {
     "name": "stdout",
     "output_type": "stream",
     "text": [
      "+---+---+--------+------+---+----+---+-------+---+--------+---+---+-----+---+---+-----+---+---+-----+---+---+---+---+---+---+---+---+---+----+---+\n",
      "| Rk|  G|    Date|   Age| Tm| _c5|Opp|    _c7| GS|      MP| FG|FGA|  FG%| 3P|3PA|  3P%| FT|FTA|  FT%|ORB|DRB|TRB|AST|STL|BLK|TOV| PF|PTS|GmSc|+/-|\n",
      "+---+---+--------+------+---+----+---+-------+---+--------+---+---+-----+---+---+-----+---+---+-----+---+---+---+---+---+---+---+---+---+----+---+\n",
      "|  1|  1|10/17/17|32-291|CLE|null|BOS| W (+3)|  1|41:12:00| 12| 19|0.632|  1|  5|  0.2|  4|  4|  1.0|  1| 15| 16|  9|  0|  2|  4|  3| 29|28.2|  2|\n",
      "|  2|  2|10/20/17|32-294|CLE|   @|MIL|W (+19)|  1|37:25:00| 10| 16|0.625|  2|  4|  0.5|  2|  2|  1.0|  1|  4|  5|  8|  1|  1|  5|  1| 24|20.6| 13|\n",
      "|  3|  3|10/21/17|32-295|CLE|null|ORL|L (-21)|  1|31:12:00|  8| 15|0.533|  1|  3|0.333|  5|  6|0.833|  0|  4|  4|  2|  1|  1|  1|  0| 22|17.6|-31|\n",
      "|  4|  4|10/24/17|32-298|CLE|null|CHI| W (+7)|  1|37:15:00| 13| 20| 0.65|  4|  6|0.667|  4|  5|  0.8|  0|  2|  2| 13|  3|  0|  2|  1| 34|35.1|  7|\n",
      "|  5|  5|10/25/17|32-299|CLE|   @|BRK| L (-5)|  1|41:22:00| 12| 20|  0.6|  1|  2|  0.5|  4|  8|  0.5|  1|  9| 10| 13|  0|  4|  8|  1| 29|25.1| -2|\n",
      "+---+---+--------+------+---+----+---+-------+---+--------+---+---+-----+---+---+-----+---+---+-----+---+---+---+---+---+---+---+---+---+----+---+\n",
      "only showing top 5 rows\n",
      "\n"
     ]
    }
   ],
   "source": [
    "data.show(5)"
   ]
  },
  {
   "cell_type": "markdown",
   "metadata": {},
   "source": [
    "### Data Preprocessing"
   ]
  },
  {
   "cell_type": "code",
   "execution_count": 7,
   "metadata": {},
   "outputs": [],
   "source": [
    "data = data.withColumnRenamed('_c5', 'HomeAway').withColumnRenamed('_c7', 'WinLoss')"
   ]
  },
  {
   "cell_type": "code",
   "execution_count": 8,
   "metadata": {},
   "outputs": [],
   "source": [
    "# Don't know what rank means, game number is not important, and age is constant\n",
    "# A player like Lebron will probably not get traded during the year, so drop Tm \n",
    "output = data.drop('Rk', 'G', 'Age', 'Tm')"
   ]
  },
  {
   "cell_type": "code",
   "execution_count": 9,
   "metadata": {},
   "outputs": [],
   "source": [
    "from pyspark.sql.functions import *"
   ]
  },
  {
   "cell_type": "code",
   "execution_count": 10,
   "metadata": {},
   "outputs": [],
   "source": [
    "# modify column to state Home and Away\n",
    "output = output.withColumn('HomeAway',when(output.HomeAway=='@','Away').otherwise('Home'))"
   ]
  },
  {
   "cell_type": "code",
   "execution_count": 11,
   "metadata": {},
   "outputs": [
    {
     "name": "stdout",
     "output_type": "stream",
     "text": [
      "W -55\n"
     ]
    }
   ],
   "source": [
    "import re\n",
    "test = 'W (-55)'\n",
    "pattern = re.compile('(?P<Winloss>[A-Z]+)\\s+\\((?P<Value>(\\+|\\-)+(\\d+|\\d))')\n",
    "match = re.search(pattern, test)\n",
    "result = match.group('Winloss') #if match else None\n",
    "value = match.group('Value') #if match else None\n",
    "print(result,value)"
   ]
  },
  {
   "cell_type": "code",
   "execution_count": 12,
   "metadata": {},
   "outputs": [],
   "source": [
    "# split WinLoss column into WinLossResult and WinBy \n",
    "# WinLossResult is win or lose and WinBy is how much they won/loss by\n",
    "output=output.withColumn('WinLossResult', \n",
    "                         regexp_extract(col('WinLoss'), \n",
    "                                        '([A-Z]+)\\s+\\(((\\+|\\-)+(\\d+|\\d))',1)).withColumn('WinBy', \n",
    "                                                                                         regexp_extract(col('WinLoss'), '([A-Z]+)\\s+\\(((\\+|\\-)+(\\d+|\\d))',2))"
   ]
  },
  {
   "cell_type": "code",
   "execution_count": 13,
   "metadata": {},
   "outputs": [],
   "source": [
    "output = output.drop('WinLoss')"
   ]
  },
  {
   "cell_type": "code",
   "execution_count": 14,
   "metadata": {},
   "outputs": [
    {
     "name": "stdout",
     "output_type": "stream",
     "text": [
      "+--------+--------+---+---+--------+---+---+-----+---+---+-----+---+---+-----+---+---+---+---+---+---+---+---+---+----+---+-------------+-----+\n",
      "|    Date|HomeAway|Opp| GS|      MP| FG|FGA|  FG%| 3P|3PA|  3P%| FT|FTA|  FT%|ORB|DRB|TRB|AST|STL|BLK|TOV| PF|PTS|GmSc|+/-|WinLossResult|WinBy|\n",
      "+--------+--------+---+---+--------+---+---+-----+---+---+-----+---+---+-----+---+---+---+---+---+---+---+---+---+----+---+-------------+-----+\n",
      "|10/17/17|    Home|BOS|  1|41:12:00| 12| 19|0.632|  1|  5|  0.2|  4|  4|  1.0|  1| 15| 16|  9|  0|  2|  4|  3| 29|28.2|  2|            W|   +3|\n",
      "|10/20/17|    Away|MIL|  1|37:25:00| 10| 16|0.625|  2|  4|  0.5|  2|  2|  1.0|  1|  4|  5|  8|  1|  1|  5|  1| 24|20.6| 13|            W|  +19|\n",
      "|10/21/17|    Home|ORL|  1|31:12:00|  8| 15|0.533|  1|  3|0.333|  5|  6|0.833|  0|  4|  4|  2|  1|  1|  1|  0| 22|17.6|-31|            L|  -21|\n",
      "+--------+--------+---+---+--------+---+---+-----+---+---+-----+---+---+-----+---+---+---+---+---+---+---+---+---+----+---+-------------+-----+\n",
      "only showing top 3 rows\n",
      "\n"
     ]
    }
   ],
   "source": [
    "output.show(3)"
   ]
  },
  {
   "cell_type": "code",
   "execution_count": null,
   "metadata": {},
   "outputs": [],
   "source": []
  }
 ],
 "metadata": {
  "kernelspec": {
   "display_name": "Python 3",
   "language": "python",
   "name": "python3"
  },
  "language_info": {
   "codemirror_mode": {
    "name": "ipython",
    "version": 3
   },
   "file_extension": ".py",
   "mimetype": "text/x-python",
   "name": "python",
   "nbconvert_exporter": "python",
   "pygments_lexer": "ipython3",
   "version": "3.6.5"
  }
 },
 "nbformat": 4,
 "nbformat_minor": 2
}
