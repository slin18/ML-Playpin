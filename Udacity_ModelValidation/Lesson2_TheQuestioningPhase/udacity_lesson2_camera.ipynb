{
 "cells": [
  {
   "cell_type": "code",
   "execution_count": 1,
   "metadata": {},
   "outputs": [
    {
     "name": "stdout",
     "output_type": "stream",
     "text": [
      "Populating the interactive namespace from numpy and matplotlib\n"
     ]
    }
   ],
   "source": [
    "%pylab inline"
   ]
  },
  {
   "cell_type": "code",
   "execution_count": 2,
   "metadata": {},
   "outputs": [],
   "source": [
    "import scipy\n",
    "import numpy\n",
    "import pandas"
   ]
  },
  {
   "cell_type": "code",
   "execution_count": 3,
   "metadata": {},
   "outputs": [],
   "source": [
    "import matplotlib.pyplot as pyplt"
   ]
  },
  {
   "cell_type": "code",
   "execution_count": 4,
   "metadata": {},
   "outputs": [],
   "source": [
    "import seaborn as sns"
   ]
  },
  {
   "cell_type": "raw",
   "metadata": {},
   "source": [
    "Navigate to data points"
   ]
  },
  {
   "cell_type": "code",
   "execution_count": 5,
   "metadata": {},
   "outputs": [
    {
     "name": "stdout",
     "output_type": "stream",
     "text": [
      "[Errno 2] No such file or directory: '/Users/dondini/Udacity/lesson_2/ud919/lesson2/twitter/'\n",
      "/Users/sam1/Documents/Projects/ML-Playpin/Udacity_ModelValidation/Lesson2_TheQuestioningPhase\n"
     ]
    }
   ],
   "source": [
    "cd /Users/dondini/Udacity/lesson_2/ud919/lesson2/twitter/"
   ]
  },
  {
   "cell_type": "markdown",
   "metadata": {},
   "source": [
    "#### Form data points"
   ]
  },
  {
   "cell_type": "code",
   "execution_count": 6,
   "metadata": {},
   "outputs": [],
   "source": [
    "tweetsDF = pandas.io.json.read_json(\"new_gruber_tweets.json\")"
   ]
  },
  {
   "cell_type": "code",
   "execution_count": 7,
   "metadata": {},
   "outputs": [],
   "source": [
    "createdDF = tweetsDF.loc[0:, [\"created_at\"]]\n",
    "createdTextDF = tweetsDF.loc[0:, [\"created_at\", \"text\"]]\n",
    "createdTextVals = createdTextDF.values"
   ]
  },
  {
   "cell_type": "code",
   "execution_count": 8,
   "metadata": {},
   "outputs": [],
   "source": [
    "tweetTimes = []\n",
    "for i,row in createdDF.iterrows():\n",
    "    tweetTimes.append(row[\"created_at\"])\n",
    "tweetTimes.sort()"
   ]
  },
  {
   "cell_type": "code",
   "execution_count": 9,
   "metadata": {},
   "outputs": [],
   "source": [
    "timeUntilNext = []\n",
    "for i in xrange(1, len(tweetTimes)-1):\n",
    "    timeDiff = (tweetTimes[i]-tweetTimes[i-1]).seconds\n",
    "    timeUntilNext.append(timeDiff)"
   ]
  },
  {
   "cell_type": "markdown",
   "metadata": {},
   "source": [
    "#### Create initial histogram"
   ]
  },
  {
   "cell_type": "code",
   "execution_count": 10,
   "metadata": {},
   "outputs": [],
   "source": [
    "timeToNextSeries = pandas.Series(timeUntilNext)"
   ]
  },
  {
   "cell_type": "code",
   "execution_count": 11,
   "metadata": {},
   "outputs": [
    {
     "name": "stderr",
     "output_type": "stream",
     "text": [
      "/anaconda2/lib/python2.7/site-packages/matplotlib/axes/_axes.py:6571: UserWarning: The 'normed' kwarg is deprecated, and has been replaced by the 'density' kwarg.\n",
      "  warnings.warn(\"The 'normed' kwarg is deprecated, and has been \"\n"
     ]
    },
    {
     "data": {
      "text/plain": [
       "<matplotlib.axes._subplots.AxesSubplot at 0x1a24ff8b10>"
      ]
     },
     "execution_count": 11,
     "metadata": {},
     "output_type": "execute_result"
    },
    {
     "data": {
      "image/png": "[encoded data removed]",
      "text/plain": [
       "<Figure size 432x288 with 1 Axes>"
      ]
     },
     "metadata": {},
     "output_type": "display_data"
    }
   ],
   "source": [
    "timeToNextSeries.hist(bins=30, normed=True)"
   ]
  },
  {
   "cell_type": "markdown",
   "metadata": {},
   "source": [
    "#### Fit an exponential"
   ]
  },
  {
   "cell_type": "code",
   "execution_count": 12,
   "metadata": {},
   "outputs": [],
   "source": [
    "from scipy.optimize import curve_fit"
   ]
  },
  {
   "cell_type": "code",
   "execution_count": 13,
   "metadata": {},
   "outputs": [],
   "source": [
    "def fitFunc(t, b):\n",
    "    return b*numpy.exp(-b*t)"
   ]
  },
  {
   "cell_type": "code",
   "execution_count": 14,
   "metadata": {},
   "outputs": [],
   "source": [
    "count,division = np.histogram(timeUntilNext, bins=100, normed=True)"
   ]
  },
  {
   "cell_type": "code",
   "execution_count": 15,
   "metadata": {},
   "outputs": [],
   "source": [
    "fitParams, fitCov = curve_fit(fitFunc, division[0:len(division)-1], count, p0=1e-4)"
   ]
  },
  {
   "cell_type": "code",
   "execution_count": 16,
   "metadata": {},
   "outputs": [
    {
     "data": {
      "text/plain": [
       "array([0.00068895])"
      ]
     },
     "execution_count": 16,
     "metadata": {},
     "output_type": "execute_result"
    }
   ],
   "source": [
    "fitParams"
   ]
  },
  {
   "cell_type": "code",
   "execution_count": 17,
   "metadata": {},
   "outputs": [
    {
     "data": {
      "text/plain": [
       "1451.4883192376358"
      ]
     },
     "execution_count": 17,
     "metadata": {},
     "output_type": "execute_result"
    }
   ],
   "source": [
    "1/fitParams[0]"
   ]
  },
  {
   "cell_type": "code",
   "execution_count": 18,
   "metadata": {},
   "outputs": [
    {
     "data": {
      "text/plain": [
       "array([[1.04040928e-09]])"
      ]
     },
     "execution_count": 18,
     "metadata": {},
     "output_type": "execute_result"
    }
   ],
   "source": [
    "fitCov"
   ]
  },
  {
   "cell_type": "markdown",
   "metadata": {},
   "source": [
    "#### Evaluate exponential"
   ]
  },
  {
   "cell_type": "code",
   "execution_count": 19,
   "metadata": {},
   "outputs": [
    {
     "data": {
      "text/plain": [
       "[<matplotlib.lines.Line2D at 0x1a24553250>]"
      ]
     },
     "execution_count": 19,
     "metadata": {},
     "output_type": "execute_result"
    },
    {
     "data": {
      "image/png": "[encoded data removed]",
      "text/plain": [
       "<Figure size 432x288 with 1 Axes>"
      ]
     },
     "metadata": {},
     "output_type": "display_data"
    }
   ],
   "source": [
    "t = division[0:len(division)-1]\n",
    "timeToNextSeries.hist(bins=50, normed=True, color=\"blue\")\n",
    "pyplt.plot(t, fitFunc(t, fitParams[0]), color=\"yellow\")"
   ]
  },
  {
   "cell_type": "code",
   "execution_count": 20,
   "metadata": {},
   "outputs": [],
   "source": [
    "exp_diffs = []\n",
    "for t in timeUntilNext:\n",
    "    exp_diffs.append(t-1/fitParams[0])"
   ]
  },
  {
   "cell_type": "code",
   "execution_count": 21,
   "metadata": {},
   "outputs": [
    {
     "data": {
      "text/plain": [
       "<matplotlib.axes._subplots.AxesSubplot at 0x1a23ae0690>"
      ]
     },
     "execution_count": 21,
     "metadata": {},
     "output_type": "execute_result"
    },
    {
     "data": {
      "image/png": "[encoded data removed]",
      "text/plain": [
       "<Figure size 432x288 with 1 Axes>"
      ]
     },
     "metadata": {},
     "output_type": "display_data"
    }
   ],
   "source": [
    "pandas.Series(exp_diffs).hist(bins=50)"
   ]
  },
  {
   "cell_type": "code",
   "execution_count": 22,
   "metadata": {},
   "outputs": [
    {
     "data": {
      "text/plain": [
       "count     3232.000000\n",
       "mean      2843.046025\n",
       "std      11064.424336\n",
       "min      -1450.488319\n",
       "25%      -1368.488319\n",
       "50%      -1115.488319\n",
       "75%       1032.261681\n",
       "max      83356.511681\n",
       "dtype: float64"
      ]
     },
     "execution_count": 22,
     "metadata": {},
     "output_type": "execute_result"
    }
   ],
   "source": [
    "pandas.Series(exp_diffs).describe()"
   ]
  },
  {
   "cell_type": "markdown",
   "metadata": {},
   "source": [
    "#### Evaluate absolute difference of values"
   ]
  },
  {
   "cell_type": "code",
   "execution_count": 23,
   "metadata": {},
   "outputs": [],
   "source": [
    "import math\n",
    "exp_diffs = []\n",
    "abs_diffs = []\n",
    "for t in timeUntilNext:\n",
    "    exp_diffs.append(t-1/fitParams[0])\n",
    "    abs_diffs.append(math.fabs(t-1/fitParams[0]))"
   ]
  },
  {
   "cell_type": "code",
   "execution_count": 24,
   "metadata": {},
   "outputs": [
    {
     "data": {
      "text/plain": [
       "<matplotlib.axes._subplots.AxesSubplot at 0x1a2ec24910>"
      ]
     },
     "execution_count": 24,
     "metadata": {},
     "output_type": "execute_result"
    },
    {
     "data": {
      "image/png": "[encoded data removed]",
      "text/plain": [
       "<Figure size 432x288 with 1 Axes>"
      ]
     },
     "metadata": {},
     "output_type": "display_data"
    }
   ],
   "source": [
    "pandas.Series(abs_diffs).hist()"
   ]
  },
  {
   "cell_type": "code",
   "execution_count": 25,
   "metadata": {},
   "outputs": [
    {
     "data": {
      "text/plain": [
       "count     3232.000000\n",
       "mean      4446.834434\n",
       "std      10522.663236\n",
       "min          0.488319\n",
       "25%       1110.505840\n",
       "50%       1363.488319\n",
       "75%       1437.488319\n",
       "max      83356.511681\n",
       "dtype: float64"
      ]
     },
     "execution_count": 25,
     "metadata": {},
     "output_type": "execute_result"
    }
   ],
   "source": [
    "pandas.Series(abs_diffs).describe()"
   ]
  },
  {
   "cell_type": "markdown",
   "metadata": {},
   "source": [
    "#### Observe effect of adding offset"
   ]
  },
  {
   "cell_type": "raw",
   "metadata": {},
   "source": [
    "Note that much of the histogram occurs *before* zero. Perhaps by adding an offset, we can improve performance."
   ]
  },
  {
   "cell_type": "markdown",
   "metadata": {},
   "source": [
    "#### Fit more generalized exponential"
   ]
  },
  {
   "cell_type": "code",
   "execution_count": 26,
   "metadata": {},
   "outputs": [],
   "source": [
    "def fitFunc_gen(t, a, b, c):\n",
    "    return a*(b)*numpy.exp(-b*t)+c"
   ]
  },
  {
   "cell_type": "code",
   "execution_count": 27,
   "metadata": {},
   "outputs": [],
   "source": [
    "fitParams_gen, fitCov_gen = curve_fit(fitFunc_gen, division[0:len(division)-1], count, p0=[0, 3e-4, 0])"
   ]
  },
  {
   "cell_type": "code",
   "execution_count": 28,
   "metadata": {},
   "outputs": [
    {
     "data": {
      "text/plain": [
       "array([3.34149579e-01, 2.17218731e-03, 3.18496892e-06])"
      ]
     },
     "execution_count": 28,
     "metadata": {},
     "output_type": "execute_result"
    }
   ],
   "source": [
    "fitParams_gen"
   ]
  },
  {
   "cell_type": "code",
   "execution_count": 29,
   "metadata": {},
   "outputs": [
    {
     "data": {
      "text/plain": [
       "array([[ 1.10186661e-04, -6.83152390e-07, -1.07612173e-09],\n",
       "       [-6.83152390e-07,  4.65228418e-09,  5.59704086e-12],\n",
       "       [-1.07612173e-09,  5.59704086e-12,  4.82402255e-13]])"
      ]
     },
     "execution_count": 29,
     "metadata": {},
     "output_type": "execute_result"
    }
   ],
   "source": [
    "fitCov_gen"
   ]
  },
  {
   "cell_type": "code",
   "execution_count": 30,
   "metadata": {},
   "outputs": [
    {
     "data": {
      "text/plain": [
       "153.8330951411821"
      ]
     },
     "execution_count": 30,
     "metadata": {},
     "output_type": "execute_result"
    }
   ],
   "source": [
    "(1/fitParams_gen[1])*fitParams_gen[0]+fitParams_gen[1]"
   ]
  },
  {
   "cell_type": "markdown",
   "metadata": {},
   "source": [
    "#### Evaluate adjusted exponential"
   ]
  },
  {
   "cell_type": "code",
   "execution_count": 31,
   "metadata": {},
   "outputs": [
    {
     "data": {
      "text/plain": [
       "[<matplotlib.lines.Line2D at 0x1a2edb2f50>]"
      ]
     },
     "execution_count": 31,
     "metadata": {},
     "output_type": "execute_result"
    },
    {
     "data": {
      "image/png": "[encoded data removed]",
      "text/plain": [
       "<Figure size 432x288 with 1 Axes>"
      ]
     },
     "metadata": {},
     "output_type": "display_data"
    }
   ],
   "source": [
    "t = division[0:len(division)-1]\n",
    "timeToNextSeries.hist(bins=50, normed=True, color=\"blue\")\n",
    "pyplt.plot(t, fitFunc(t, fitParams[0]), color=\"yellow\")\n",
    "pyplt.plot(t, fitFunc_gen(t, fitParams_gen[0], fitParams_gen[1], fitParams_gen[2]), color=\"red\")"
   ]
  },
  {
   "cell_type": "code",
   "execution_count": 32,
   "metadata": {},
   "outputs": [],
   "source": [
    "exp_gen_diffs = []\n",
    "exp_gen_abs = []\n",
    "for t in timeUntilNext:\n",
    "    exp_gen_diffs.append((t-1/fitParams_gen[1])*fitParams_gen[0]+fitParams_gen[1])\n",
    "    exp_gen_abs.append(math.fabs((t-1/fitParams_gen[1])*fitParams_gen[0]+fitParams_gen[1]))"
   ]
  },
  {
   "cell_type": "code",
   "execution_count": 33,
   "metadata": {},
   "outputs": [
    {
     "data": {
      "text/plain": [
       "count     3232.000000\n",
       "mean      1281.188091\n",
       "std       3697.172729\n",
       "min       -153.494601\n",
       "25%       -126.094336\n",
       "50%        -41.554492\n",
       "75%        676.115265\n",
       "max      28184.728710\n",
       "dtype: float64"
      ]
     },
     "execution_count": 33,
     "metadata": {},
     "output_type": "execute_result"
    }
   ],
   "source": [
    "pandas.Series(exp_gen_diffs).describe()"
   ]
  },
  {
   "cell_type": "code",
   "execution_count": 34,
   "metadata": {},
   "outputs": [
    {
     "data": {
      "text/plain": [
       "count     3232.000000\n",
       "mean      1400.959394\n",
       "std       3653.456235\n",
       "min          0.119945\n",
       "25%        107.716109\n",
       "50%        139.126169\n",
       "75%        676.115265\n",
       "max      28184.728710\n",
       "dtype: float64"
      ]
     },
     "execution_count": 34,
     "metadata": {},
     "output_type": "execute_result"
    }
   ],
   "source": [
    "pandas.Series(exp_gen_abs).describe()"
   ]
  },
  {
   "cell_type": "markdown",
   "metadata": {},
   "source": [
    "### Depection of variance in data"
   ]
  },
  {
   "cell_type": "code",
   "execution_count": 35,
   "metadata": {},
   "outputs": [
    {
     "name": "stdout",
     "output_type": "stream",
     "text": [
      "[Errno 2] No such file or directory: '/Users/dondini/Udacity/lesson_2/ud919/lesson2/twitter/'\n",
      "/Users/sam1/Documents/Projects/ML-Playpin/Udacity_ModelValidation/Lesson2_TheQuestioningPhase\n"
     ]
    }
   ],
   "source": [
    "cd /Users/dondini/Udacity/lesson_2/ud919/lesson2/twitter/"
   ]
  },
  {
   "cell_type": "code",
   "execution_count": 36,
   "metadata": {},
   "outputs": [],
   "source": [
    "tweetsDF = pandas.io.json.read_json(\"new_gruber_tweets.json\")"
   ]
  },
  {
   "cell_type": "markdown",
   "metadata": {},
   "source": [
    "#### Obtaining time-to-tweet vs. delta-t data points"
   ]
  },
  {
   "cell_type": "code",
   "execution_count": 37,
   "metadata": {},
   "outputs": [],
   "source": [
    "step_size = 10\n",
    "data_points = []\n",
    "for v in timeUntilNext:\n",
    "    bin_left_edges = np.arange(0, v, step_size)\n",
    "    \n",
    "    for l_edge in bin_left_edges:\n",
    "        tempNewPoint = [l_edge, v-l_edge]\n",
    "        data_points.append(tempNewPoint)"
   ]
  },
  {
   "cell_type": "code",
   "execution_count": 38,
   "metadata": {},
   "outputs": [],
   "source": [
    "data_points.sort()"
   ]
  },
  {
   "cell_type": "code",
   "execution_count": 39,
   "metadata": {},
   "outputs": [],
   "source": [
    "deltat_100 = [v[1] for v in data_points if v[0]==100]\n",
    "deltat_150 = [v[1] for v in data_points if v[0]==150]\n",
    "deltat_10 = [v[1] for v in data_points if v[0]==10]"
   ]
  },
  {
   "cell_type": "code",
   "execution_count": 40,
   "metadata": {},
   "outputs": [
    {
     "data": {
      "text/plain": [
       "<matplotlib.axes._subplots.AxesSubplot at 0x1a2ed1d8d0>"
      ]
     },
     "execution_count": 40,
     "metadata": {},
     "output_type": "execute_result"
    },
    {
     "data": {
      "image/png": "[encoded data removed]",
      "text/plain": [
       "<Figure size 432x288 with 1 Axes>"
      ]
     },
     "metadata": {},
     "output_type": "display_data"
    }
   ],
   "source": [
    "pandas.Series(deltat_10).hist(bins=30, alpha=0.5, color=\"blue\")\n",
    "#pandas.Series(deltat_100).hist(bins=30)\n",
    "d_150 = pandas.Series(deltat_150)\n",
    "pandas.Series(deltat_150).hist(bins=30, alpha=0.3, color=\"red\")"
   ]
  },
  {
   "cell_type": "code",
   "execution_count": 41,
   "metadata": {},
   "outputs": [
    {
     "ename": "NameError",
     "evalue": "name 'deltatToStd' is not defined",
     "output_type": "error",
     "traceback": [
      "\u001b[0;31m---------------------------------------------------------------------------\u001b[0m",
      "\u001b[0;31mNameError\u001b[0m                                 Traceback (most recent call last)",
      "\u001b[0;32m<ipython-input-41-12171018252f>\u001b[0m in \u001b[0;36m<module>\u001b[0;34m()\u001b[0m\n\u001b[0;32m----> 1\u001b[0;31m \u001b[0mxVals\u001b[0m \u001b[0;34m=\u001b[0m \u001b[0;34m[\u001b[0m\u001b[0mv\u001b[0m\u001b[0;34m[\u001b[0m\u001b[0;36m0\u001b[0m\u001b[0;34m]\u001b[0m \u001b[0;32mfor\u001b[0m \u001b[0mv\u001b[0m \u001b[0;32min\u001b[0m \u001b[0mdeltatToStd\u001b[0m\u001b[0;34m]\u001b[0m\u001b[0;34m\u001b[0m\u001b[0m\n\u001b[0m\u001b[1;32m      2\u001b[0m \u001b[0myVals\u001b[0m \u001b[0;34m=\u001b[0m \u001b[0;34m[\u001b[0m\u001b[0mv\u001b[0m\u001b[0;34m[\u001b[0m\u001b[0;36m1\u001b[0m\u001b[0;34m]\u001b[0m \u001b[0;32mfor\u001b[0m \u001b[0mv\u001b[0m \u001b[0;32min\u001b[0m \u001b[0mdeltatToStd\u001b[0m\u001b[0;34m]\u001b[0m\u001b[0;34m\u001b[0m\u001b[0m\n",
      "\u001b[0;31mNameError\u001b[0m: name 'deltatToStd' is not defined"
     ]
    }
   ],
   "source": [
    "xVals = [v[0] for v in deltatToStd]\n",
    "yVals = [v[1] for v in deltatToStd]"
   ]
  },
  {
   "cell_type": "code",
   "execution_count": null,
   "metadata": {},
   "outputs": [],
   "source": [
    "scipy.std(deltat_150)"
   ]
  },
  {
   "cell_type": "code",
   "execution_count": null,
   "metadata": {},
   "outputs": [],
   "source": [
    "deltatToStd = []\n",
    "deltaToDist = []\n",
    "for i in np.arange(0, 100, 10):\n",
    "    tempDeltas = [v[1] for v in data_points if v[0] == i]\n",
    "    tempStd = scipy.std(tempDeltas)\n",
    "    deltatToStd.append([i, tempStd])\n",
    "    deltaToDist.append([i, tempDeltas])"
   ]
  },
  {
   "cell_type": "code",
   "execution_count": null,
   "metadata": {},
   "outputs": [],
   "source": [
    "p1 = pyplt.plot(xVals, yVals, label=\"std dev (sec)\")\n",
    "pyplt.legend(loc=2, prop={'size':18})"
   ]
  },
  {
   "cell_type": "markdown",
   "metadata": {},
   "source": [
    "#### Obtain bounds on bootstrapped 95% confidence interval"
   ]
  },
  {
   "cell_type": "code",
   "execution_count": null,
   "metadata": {},
   "outputs": [],
   "source": [
    "deltaToBounds = []\n",
    "for v in deltaToDist:\n",
    "    topBound = numpy.percentile(v[1], 95)\n",
    "    bottomBound = numpy.percentile(v[1], 5)\n",
    "    deltaToBounds.append([v[0], (topBound, bottomBound)])"
   ]
  },
  {
   "cell_type": "code",
   "execution_count": null,
   "metadata": {},
   "outputs": [],
   "source": [
    "p1 = pyplt.plot(xVals, [e[1][0] for e in deltaToBounds], color=\"red\")\n",
    "p2 = pyplt.plot(xVals, [e[1][1] for e in deltaToBounds], color=\"red\")\n",
    "pyplt.fill_between(xVals, [e[1][0] for e in deltaToBounds], [e[1][1] for e in deltaToBounds], alpha=0.4, color=\"orange\")"
   ]
  },
  {
   "cell_type": "markdown",
   "metadata": {},
   "source": [
    "### Impact of unmeasured features"
   ]
  },
  {
   "cell_type": "markdown",
   "metadata": {},
   "source": [
    "#### One variable plus gaussian noise"
   ]
  },
  {
   "cell_type": "code",
   "execution_count": null,
   "metadata": {},
   "outputs": [],
   "source": [
    "dataPoints_1 = []\n",
    "x = np.arange(0, 100, 10)\n",
    "for j in xrange(100):\n",
    "    points = [(i, i*2 + 3 + numpy.random.normal(scale=50.0)) for i in x]\n",
    "    dataPoints_1.extend(points)"
   ]
  },
  {
   "cell_type": "code",
   "execution_count": null,
   "metadata": {},
   "outputs": [],
   "source": [
    "pointToVals = []\n",
    "pointToBounds = []\n",
    "for i in np.arange(0, 100, 10):\n",
    "    valsForDataPoint = [v for v in dataPoints_1 if v[0]==i]\n",
    "    pointToVals.append(valsForDataPoint)\n",
    "    upperBound = numpy.percentile(valsForDataPoint, 95)\n",
    "    lowerBound = numpy.percentile(valsForDataPoint, 5)\n",
    "    pointToBounds.append([i, (upperBound, lowerBound)])"
   ]
  },
  {
   "cell_type": "code",
   "execution_count": null,
   "metadata": {},
   "outputs": [],
   "source": [
    "pyplt.plot(x, [v[1][0] for v in pointToBounds])\n",
    "pyplt.plot(x, [v[1][1] for v in pointToBounds])\n",
    "pyplt.plot(x, [[i*2+3] for i in x], color=\"red\", label=\"true model\")\n",
    "pyplt.fill_between(x, [v[1][0] for v in pointToBounds], [v[1][1] for v in pointToBounds], color=\"orange\", alpha=0.4)\n",
    "pyplt.legend(loc=2, prop={'size':18})"
   ]
  },
  {
   "cell_type": "markdown",
   "metadata": {},
   "source": [
    "#### Two variables plus gaussian noise"
   ]
  },
  {
   "cell_type": "code",
   "execution_count": null,
   "metadata": {},
   "outputs": [],
   "source": [
    "dataPoints_2 = []\n",
    "x = np.arange(0, 100, 10)\n",
    "y = np.arange(50, 150, 10)\n",
    "for j in xrange(100):\n",
    "    yVal = random.choice(y)\n",
    "    points = [(i, i*2 + yVal*2 + 3 + numpy.random.normal(scale=50.0)) for i in x]\n",
    "    dataPoints_2.extend(points)"
   ]
  },
  {
   "cell_type": "code",
   "execution_count": null,
   "metadata": {},
   "outputs": [],
   "source": [
    "avgYAtX = {}\n",
    "for i in x:\n",
    "    lineVals = [(i*2 + yVal*2 + 3 ) for yVal in np.arange(50, 150, 10)]\n",
    "    avgY = reduce(lambda x,y: x+y, lineVals)/len(lineVals)\n",
    "    avgYAtX[i] = avgY"
   ]
  },
  {
   "cell_type": "code",
   "execution_count": null,
   "metadata": {},
   "outputs": [],
   "source": [
    "pointToVals = []\n",
    "pointToBounds = []\n",
    "for i in np.arange(0, 100, 10):\n",
    "    valsForDataPoint = [v for v in dataPoints_2 if v[0]==i]\n",
    "    pointToVals.append(valsForDataPoint)\n",
    "    upperBound = numpy.percentile(valsForDataPoint, 95)\n",
    "    lowerBound = numpy.percentile(valsForDataPoint, 5)\n",
    "    pointToBounds.append([i, (upperBound, lowerBound)])"
   ]
  },
  {
   "cell_type": "code",
   "execution_count": null,
   "metadata": {},
   "outputs": [],
   "source": [
    "pyplt.plot(x, [v[1][0] for v in pointToBounds])\n",
    "pyplt.plot(x, [v[1][1] for v in pointToBounds])\n",
    "pyplt.plot(x, [avgYAtX[i] for i in x], color=\"red\", label=\"true model (best estimate)\")\n",
    "pyplt.fill_between(x, [v[1][0] for v in pointToBounds], [v[1][1] for v in pointToBounds], color=\"orange\", alpha=0.4)\n",
    "pyplt.legend(loc=2, prop={'size':18})"
   ]
  },
  {
   "cell_type": "markdown",
   "metadata": {},
   "source": [
    "### Feature selection"
   ]
  },
  {
   "cell_type": "raw",
   "metadata": {},
   "source": [
    "Proposed list of features to consider for influence upon intertweet time:\n",
    "-mention distance\n",
    "-time of day\n",
    "-contains mention\n",
    "-contains URL\n",
    "-length of tweet (num chars)\n",
    "-contains hashtags\n",
    "-is_reply"
   ]
  },
  {
   "cell_type": "raw",
   "metadata": {},
   "source": [
    "We now need to form the features described above. The most non-trivial one to create is \"mention distance\", as defined in lecture. We do this now. "
   ]
  },
  {
   "cell_type": "markdown",
   "metadata": {},
   "source": [
    "#### Forming mention distance"
   ]
  },
  {
   "cell_type": "code",
   "execution_count": null,
   "metadata": {},
   "outputs": [],
   "source": [
    "import twitter_tools\n",
    "from twitter_tools import *"
   ]
  },
  {
   "cell_type": "raw",
   "metadata": {},
   "source": [
    "Obtain your own data files here!"
   ]
  },
  {
   "cell_type": "code",
   "execution_count": null,
   "metadata": {},
   "outputs": [],
   "source": [
    "tweetFile = open(\"/Users/dondini/Udacity/lesson_2/ud919/lesson2/twitter/new_gruber_tweets.json\")"
   ]
  },
  {
   "cell_type": "code",
   "execution_count": null,
   "metadata": {},
   "outputs": [],
   "source": [
    "import json\n",
    "jsonFile = json.load(tweetFile)"
   ]
  },
  {
   "cell_type": "code",
   "execution_count": null,
   "metadata": {},
   "outputs": [],
   "source": [
    "tweetFile.close()"
   ]
  },
  {
   "cell_type": "code",
   "execution_count": null,
   "metadata": {},
   "outputs": [],
   "source": [
    "gruberTweetsDF = pandas.io.json.read_json(\"/Users/dondini/Udacity/lesson_2/ud919/lesson2/twitter/new_gruber_tweets.json\")\n",
    "siracusaTweetsDF = pandas.io.json.read_json(\"/Users/dondini/Udacity/lesson_2/ud919/lesson2/twitter/new_siracusa_tweets.json\")\n",
    "armentTweetsDF = pandas.io.json.read_json(\"/Users/dondini/Udacity/lesson_2/ud919/lesson2/twitter/new_arment_tweets.json\")"
   ]
  },
  {
   "cell_type": "code",
   "execution_count": null,
   "metadata": {},
   "outputs": [],
   "source": [
    "gruberTimeDiffs = []\n",
    "gruberTweetTimes = []\n",
    "gruberTimeToDiff = {}\n",
    "gruberTimeToText = {}\n",
    "siracusaMentionTimes = []\n",
    "armentMentionTimes = []"
   ]
  },
  {
   "cell_type": "code",
   "execution_count": null,
   "metadata": {},
   "outputs": [],
   "source": [
    "gruberCreatedDF = gruberTweetsDF.ix[0:, [\"created_at\"]]\n",
    "gruberCreatedTextDF = gruberTweetsDF.ix[0:, [\"created_at\", \"text\"]]\n",
    "createdTextVals = gruberCreatedTextDF.values\n",
    "\n",
    "for i, row in gruberCreatedDF.iterrows():\n",
    "    gruberTweetTimes.append(row[\"created_at\"])"
   ]
  },
  {
   "cell_type": "code",
   "execution_count": null,
   "metadata": {},
   "outputs": [],
   "source": [
    "gruberTweetTimes.sort()"
   ]
  },
  {
   "cell_type": "code",
   "execution_count": null,
   "metadata": {},
   "outputs": [],
   "source": [
    "for i in xrange(1, len(gruberTweetTimes)):\n",
    "    timeDiff = (gruberTweetTimes[i]-gruberTweetTimes[i-1]).seconds\n",
    "    gruberTimeDiffs.append(timeDiff)\n",
    "    gruberTimeToDiff[gruberTweetTimes[i]] = timeDiff\n",
    "    gruberTimeToText[gruberTweetTimes[i]] = gruberCreatedTextDF[ gruberCreatedTextDF[\"created_at\"]==gruberTweetTimes[i] ]"
   ]
  },
  {
   "cell_type": "markdown",
   "metadata": {},
   "source": [
    "##### Capture time of mentions"
   ]
  },
  {
   "cell_type": "code",
   "execution_count": null,
   "metadata": {},
   "outputs": [],
   "source": [
    "nearestMentionToTimeDiff = []\n",
    "tweetIndexToNearestMention = {}"
   ]
  },
  {
   "cell_type": "code",
   "execution_count": null,
   "metadata": {},
   "outputs": [],
   "source": [
    "def findTweetFollowingTime(timeStamp, tweetTimes):\n",
    "    returnTweetTime = None\n",
    "    \n",
    "    for t in tweetTimes:\n",
    "        if t>timeStamp:\n",
    "            returnTweetTime = t\n",
    "            break\n",
    "    \n",
    "    return returnTweetTime\n",
    "\n",
    "def findTweetPreceedingTime(timeStamp, tweetTimes):\n",
    "    returnTweetTime = None\n",
    "    \n",
    "    i = len(tweetTimes)-1\n",
    "    \n",
    "    while i>=0:\n",
    "        t = tweetTimes[i]\n",
    "        if t<timeStamp:\n",
    "            returnTweetTime = t\n",
    "            break\n",
    "        \n",
    "        i-=1\n",
    "    \n",
    "    return returnTweetTime"
   ]
  },
  {
   "cell_type": "code",
   "execution_count": null,
   "metadata": {},
   "outputs": [],
   "source": [
    "siracusaTimeOfGruberMentions = []\n",
    "armentTimeOfGruberMentions = []"
   ]
  },
  {
   "cell_type": "code",
   "execution_count": null,
   "metadata": {},
   "outputs": [],
   "source": [
    "for i, row in armentTweetsDF.iterrows():\n",
    "    if \"user_mentions\" in row:\n",
    "        if type(row[\"user_mentions\"]) == list:\n",
    "            if len([e for e in row[\"user_mentions\"] if e[\"screen_name\"]==\"gruber\"])>0:\n",
    "                armentTimeOfGruberMentions.append(row[\"created_at\"])"
   ]
  },
  {
   "cell_type": "code",
   "execution_count": null,
   "metadata": {},
   "outputs": [],
   "source": [
    "for i, row in siracusaTweetsDF.iterrows():\n",
    "    if \"user_mentions\" in row:\n",
    "        if type(row[\"user_mentions\"]) == list:\n",
    "            if len([e for e in row[\"user_mentions\"] if e[\"screen_name\"]==\"gruber\"])>0:\n",
    "                siracusaTimeOfGruberMentions.append(row[\"created_at\"])"
   ]
  },
  {
   "cell_type": "markdown",
   "metadata": {},
   "source": [
    "##### Mention distance for each @gruber tweet"
   ]
  },
  {
   "cell_type": "raw",
   "metadata": {},
   "source": [
    "For each gruber tweet, let's find the tweet belonging to either @siracusa or @marcoarment which is the closest, in time, to mention @gruber"
   ]
  },
  {
   "cell_type": "code",
   "execution_count": null,
   "metadata": {},
   "outputs": [],
   "source": [
    "gruberTweetTimes.sort()\n",
    "siracusaTimeOfGruberMentions.sort()\n",
    "armentTimeOfGruberMentions.sort()\n",
    "for i in xrange(len(gruberTweetTimes)):\n",
    "    t = gruberTweetTimes[i]\n",
    "    t_next = None\n",
    "    if i+1<len(gruberTweetTimes):\n",
    "        t_next = gruberTweetTimes[i+1]\n",
    "        \n",
    "        #print \"t_next: %s\" % t_next\n",
    "        t_s = findTweetFollowingTime(t, siracusaTimeOfGruberMentions)\n",
    "        t_s_prev = findTweetPreceedingTime(t, siracusaTimeOfGruberMentions)\n",
    "        \n",
    "        #print \"t_s: %s\" % t_s\n",
    "        \n",
    "        t_a = findTweetFollowingTime(t, armentTimeOfGruberMentions)\n",
    "        t_a_prev = findTweetPreceedingTime(t, armentTimeOfGruberMentions)\n",
    "        \n",
    "        sDiff = None\n",
    "        aDiff = None\n",
    "        if t_s_prev is not None and t_s is not None: \n",
    "            sDiff = math.fabs((t_s - t).seconds)\n",
    "            if sDiff >math.fabs((t-t_s_prev).seconds):\n",
    "                sDiff = math.fabs((t-t_s_prev).seconds)\n",
    "            \n",
    "        if t_a_prev is not None and t_a is not None:\n",
    "            aDiff = math.fabs((t_a - t).seconds)\n",
    "            if aDiff > math.fabs((t-t_a_prev).seconds):\n",
    "                aDiff = math.fabs((t - t_a_prev).seconds)\n",
    "        \n",
    "        closestMention = None\n",
    "        \n",
    "        if sDiff is not None:\n",
    "            closestMention = sDiff\n",
    "        elif aDiff is not None:\n",
    "            closestMention = aDiff\n",
    "        \n",
    "        if aDiff is not None and sDiff is not None:\n",
    "            if aDiff < sDiff:\n",
    "                closestMention = aDiff\n",
    "                \n",
    "        if closestMention is not None:\n",
    "            nearestMentionToTimeDiff.append((closestMention, (t_next-t).seconds))\n",
    "            tweetIndexToNearestMention[i] = closestMention"
   ]
  },
  {
   "cell_type": "markdown",
   "metadata": {},
   "source": [
    "#### Extract remaining features"
   ]
  },
  {
   "cell_type": "code",
   "execution_count": null,
   "metadata": {},
   "outputs": [],
   "source": [
    "features_list = extract_features(jsonFile)"
   ]
  },
  {
   "cell_type": "code",
   "execution_count": null,
   "metadata": {},
   "outputs": [],
   "source": [
    "featuresWithLabel = []\n",
    "for i in range(len(gruberTimeDiffs)):\n",
    "    timeDiff = gruberTimeDiffs[i]\n",
    "    if timeDiff<4000:\n",
    "        label = \"short\"\n",
    "    else:\n",
    "        label = \"long\"\n",
    "    \n",
    "    featuresForTweet = features_list[i]\n",
    "    \n",
    "    nearestMention = 0\n",
    "    if i in tweetIndexToNearestMention:\n",
    "        nearestMention = tweetIndexToNearestMention[i]\n",
    "    \n",
    "    completeItem = []\n",
    "    completeItem.append(label)\n",
    "    completeItem.extend(list(featuresForTweet))\n",
    "    completeItem.append(nearestMention)\n",
    "    featuresWithLabel.append(completeItem)"
   ]
  },
  {
   "cell_type": "markdown",
   "metadata": {},
   "source": [
    "#### Evaluate features by mutual information gain"
   ]
  },
  {
   "cell_type": "raw",
   "metadata": {},
   "source": [
    "Get info_gain library from your local path!"
   ]
  },
  {
   "cell_type": "code",
   "execution_count": null,
   "metadata": {},
   "outputs": [],
   "source": [
    "cd /Users/dondini/Udacity/"
   ]
  },
  {
   "cell_type": "code",
   "execution_count": null,
   "metadata": {},
   "outputs": [],
   "source": [
    "from info_gain import *"
   ]
  },
  {
   "cell_type": "markdown",
   "metadata": {},
   "source": [
    "#### 1 Time of day"
   ]
  },
  {
   "cell_type": "code",
   "execution_count": null,
   "metadata": {},
   "outputs": [],
   "source": [
    "valsY = [\"short\", \"long\"]\n",
    "binsY = None"
   ]
  },
  {
   "cell_type": "code",
   "execution_count": null,
   "metadata": {},
   "outputs": [],
   "source": [
    "joint_list = [(v[1], v[0]) for v in featuresWithLabel]\n",
    "valsX = [\"morning\", \"afternoon\", \"evening\", \"night\"]\n",
    "binsX = None"
   ]
  },
  {
   "cell_type": "code",
   "execution_count": null,
   "metadata": {},
   "outputs": [],
   "source": [
    "jpTable = compute_joint_prob(joint_list, valsX, valsY, None, None)"
   ]
  },
  {
   "cell_type": "code",
   "execution_count": null,
   "metadata": {},
   "outputs": [],
   "source": [
    "entropy_loss(jpTable, valsX, valsY)"
   ]
  },
  {
   "cell_type": "markdown",
   "metadata": {},
   "source": [
    "#### 2 Contains mention"
   ]
  },
  {
   "cell_type": "code",
   "execution_count": null,
   "metadata": {},
   "outputs": [],
   "source": [
    "joint_list = [(v[2], v[0]) for v in featuresWithLabel]\n",
    "valsX = None\n",
    "binsX = [[0, .9], [1.0, 100]]"
   ]
  },
  {
   "cell_type": "code",
   "execution_count": null,
   "metadata": {},
   "outputs": [],
   "source": [
    "jpTable = compute_joint_prob(joint_list, valsX, valsY, bins1=binsX)"
   ]
  },
  {
   "cell_type": "code",
   "execution_count": null,
   "metadata": {},
   "outputs": [],
   "source": [
    "entropy_loss(jpTable, [0.0, 1.0], valsY)"
   ]
  },
  {
   "cell_type": "markdown",
   "metadata": {},
   "source": [
    "#### 3 Contains URL"
   ]
  },
  {
   "cell_type": "code",
   "execution_count": null,
   "metadata": {},
   "outputs": [],
   "source": [
    "joint_list = [(v[3], v[0]) for v in featuresWithLabel]\n",
    "valsX = None\n",
    "binsX = [[0, .9], [1.0, 100]]"
   ]
  },
  {
   "cell_type": "code",
   "execution_count": null,
   "metadata": {},
   "outputs": [],
   "source": [
    "jpTable = compute_joint_prob(joint_list, valsX, valsY, bins1=binsX)"
   ]
  },
  {
   "cell_type": "code",
   "execution_count": null,
   "metadata": {},
   "outputs": [],
   "source": [
    "entropy_loss(jpTable, [0.0, 1.0], valsY)"
   ]
  },
  {
   "cell_type": "markdown",
   "metadata": {},
   "source": [
    "#### 4 Length of tweet"
   ]
  },
  {
   "cell_type": "code",
   "execution_count": null,
   "metadata": {},
   "outputs": [],
   "source": [
    "joint_list = [(v[4], v[0]) for v in featuresWithLabel]\n",
    "valsX = None\n",
    "binsX = [[0, 14], [14, 28], [28, 42], [42, 56], [56, 70], [70, 84], [84, 98], [98, 112], [112, 126]]"
   ]
  },
  {
   "cell_type": "code",
   "execution_count": null,
   "metadata": {},
   "outputs": [],
   "source": [
    "jpTable = compute_joint_prob(joint_list, valsX, valsY, bins1=binsX)"
   ]
  },
  {
   "cell_type": "code",
   "execution_count": null,
   "metadata": {},
   "outputs": [],
   "source": [
    "entropy_loss(jpTable, [v[4] for v in featuresWithLabel], valsY)"
   ]
  },
  {
   "cell_type": "markdown",
   "metadata": {},
   "source": [
    "#### 5 Contains hashtags"
   ]
  },
  {
   "cell_type": "code",
   "execution_count": null,
   "metadata": {},
   "outputs": [],
   "source": [
    "joint_list = [(v[5], v[0]) for v in featuresWithLabel]\n",
    "valsX = None\n",
    "binsX = [[0, .9], [1.0, 100]]"
   ]
  },
  {
   "cell_type": "code",
   "execution_count": null,
   "metadata": {},
   "outputs": [],
   "source": [
    "jpTable = compute_joint_prob(joint_list, valsX, valsY, bins1=binsX)"
   ]
  },
  {
   "cell_type": "code",
   "execution_count": null,
   "metadata": {},
   "outputs": [],
   "source": [
    "entropy_loss(jpTable, [0.0, 1.0], valsY)"
   ]
  },
  {
   "cell_type": "markdown",
   "metadata": {},
   "source": [
    "#### 6 Is reply"
   ]
  },
  {
   "cell_type": "code",
   "execution_count": null,
   "metadata": {},
   "outputs": [],
   "source": [
    "joint_list = [(v[6], v[0]) for v in featuresWithLabel]\n",
    "valsX = None\n",
    "binsX = [[0, .9], [1.0, 100]]"
   ]
  },
  {
   "cell_type": "code",
   "execution_count": null,
   "metadata": {},
   "outputs": [],
   "source": [
    "jpTable = compute_joint_prob(joint_list, valsX, valsY, bins1=binsX)"
   ]
  },
  {
   "cell_type": "code",
   "execution_count": null,
   "metadata": {},
   "outputs": [],
   "source": [
    "entropy_loss(jpTable, [0.0, 1.0], valsY)"
   ]
  },
  {
   "cell_type": "markdown",
   "metadata": {},
   "source": [
    "#### 7 Mention distance"
   ]
  },
  {
   "cell_type": "code",
   "execution_count": null,
   "metadata": {},
   "outputs": [],
   "source": [
    "joint_list = [(v[7], v[0]) for v in featuresWithLabel]\n",
    "valsX = None\n",
    "binsX = [[0, 1000], [1000, 5000], [5000, 8000], [8000, 10000], [10000, 20000], [20000, 30000], [30000, 60000], [60000, 80000], [80000, 10000], [100000, 800000]]"
   ]
  },
  {
   "cell_type": "code",
   "execution_count": null,
   "metadata": {},
   "outputs": [],
   "source": [
    "jpTable = compute_joint_prob(joint_list, valsX, valsY, bins1=binsX)"
   ]
  },
  {
   "cell_type": "code",
   "execution_count": null,
   "metadata": {},
   "outputs": [],
   "source": [
    "entropy_loss(jpTable, [0.0, 1.0], valsY)"
   ]
  },
  {
   "cell_type": "markdown",
   "metadata": {},
   "source": [
    "### Fitting a model "
   ]
  },
  {
   "cell_type": "raw",
   "metadata": {},
   "source": [
    "Obtain data points - each point is of the form (delta-t, mention distance, text-length of last tweet) - label with time until next tweet"
   ]
  },
  {
   "cell_type": "markdown",
   "metadata": {},
   "source": [
    "#### kNN"
   ]
  },
  {
   "cell_type": "raw",
   "metadata": {},
   "source": [
    "Form data points to be used with kNN model"
   ]
  },
  {
   "cell_type": "code",
   "execution_count": null,
   "metadata": {},
   "outputs": [],
   "source": [
    "step_size = 10\n",
    "knn_data_points = []\n",
    "tweet_index = 0\n",
    "for v in timeUntilNext:\n",
    "    bin_left_edges = np.arange(0, v, step_size)\n",
    "    \n",
    "    features_for_tweet = features_list[tweet_index]\n",
    "    \n",
    "    if tweet_index in tweetIndexToNearestMention:\n",
    "        for l_edge in bin_left_edges:\n",
    "            newDeltaT = l_edge\n",
    "            mentionDist = tweetIndexToNearestMention[tweet_index] + newDeltaT\n",
    "            textLength = features_for_tweet[3]\n",
    "            label = v-l_edge\n",
    "            \n",
    "            newPoint = [newDeltaT, mentionDist, textLength, label]\n",
    "            knn_data_points.append(newPoint)\n",
    "    \n",
    "    tweet_index+=1"
   ]
  },
  {
   "cell_type": "code",
   "execution_count": null,
   "metadata": {},
   "outputs": [],
   "source": [
    "import sklearn\n",
    "from sklearn.neighbors import KNeighborsRegressor"
   ]
  },
  {
   "cell_type": "code",
   "execution_count": null,
   "metadata": {},
   "outputs": [],
   "source": [
    "knn = KNeighborsRegressor(5)"
   ]
  },
  {
   "cell_type": "code",
   "execution_count": null,
   "metadata": {},
   "outputs": [],
   "source": [
    "knn_3 = KNeighborsRegressor(3)"
   ]
  },
  {
   "cell_type": "code",
   "execution_count": null,
   "metadata": {},
   "outputs": [],
   "source": [
    "len(knn_data_points)"
   ]
  },
  {
   "cell_type": "code",
   "execution_count": null,
   "metadata": {},
   "outputs": [],
   "source": [
    ".70*len(knn_data_points)"
   ]
  },
  {
   "cell_type": "code",
   "execution_count": null,
   "metadata": {},
   "outputs": [],
   "source": [
    ".30*len(knn_data_points)"
   ]
  },
  {
   "cell_type": "code",
   "execution_count": null,
   "metadata": {},
   "outputs": [],
   "source": [
    "import random"
   ]
  },
  {
   "cell_type": "code",
   "execution_count": null,
   "metadata": {},
   "outputs": [],
   "source": [
    "trainingPoints = [random.choice(knn_data_points) for i in xrange(966880)]"
   ]
  },
  {
   "cell_type": "code",
   "execution_count": null,
   "metadata": {},
   "outputs": [],
   "source": [
    "trainingX = [(v[0], v[1], v[2]) for v in trainingPoints]"
   ]
  },
  {
   "cell_type": "code",
   "execution_count": null,
   "metadata": {},
   "outputs": [],
   "source": [
    "trainingY = [v[3] for v in trainingPoints]"
   ]
  },
  {
   "cell_type": "code",
   "execution_count": null,
   "metadata": {},
   "outputs": [],
   "source": [
    "m_3 = knn_3.fit(trainingX, trainingY)"
   ]
  },
  {
   "cell_type": "code",
   "execution_count": null,
   "metadata": {},
   "outputs": [],
   "source": [
    "m = knn.fit(trainingX, trainingY)"
   ]
  },
  {
   "cell_type": "markdown",
   "metadata": {},
   "source": [
    "#### Performance on training set"
   ]
  },
  {
   "cell_type": "code",
   "execution_count": null,
   "metadata": {},
   "outputs": [],
   "source": [
    "y_ = m.predict(trainingX)"
   ]
  },
  {
   "cell_type": "code",
   "execution_count": null,
   "metadata": {},
   "outputs": [],
   "source": [
    "y = m_3.predict(trainingX)"
   ]
  },
  {
   "cell_type": "code",
   "execution_count": null,
   "metadata": {},
   "outputs": [],
   "source": [
    "train_diffs = []\n",
    "for i in xrange(len(trainingY)):\n",
    "    train_diffs.append(trainingY[i] - y_[i])"
   ]
  },
  {
   "cell_type": "code",
   "execution_count": null,
   "metadata": {},
   "outputs": [],
   "source": [
    "pandas.Series([math.fabs(x) for x in train_diffs]).describe()"
   ]
  },
  {
   "cell_type": "code",
   "execution_count": null,
   "metadata": {},
   "outputs": [],
   "source": [
    "pandas.Series(train_diffs).hist(bins=50)"
   ]
  },
  {
   "cell_type": "markdown",
   "metadata": {},
   "source": [
    "#### Performance on test set"
   ]
  },
  {
   "cell_type": "code",
   "execution_count": null,
   "metadata": {},
   "outputs": [],
   "source": [
    "testPoints = [random.choice(knn_data_points) for i in xrange(414377)]"
   ]
  },
  {
   "cell_type": "code",
   "execution_count": null,
   "metadata": {},
   "outputs": [],
   "source": [
    "testX = [(v[0], v[1], v[2]) for v in testPoints]"
   ]
  },
  {
   "cell_type": "code",
   "execution_count": null,
   "metadata": {},
   "outputs": [],
   "source": [
    "testY = [v[3] for v in testPoints]"
   ]
  },
  {
   "cell_type": "code",
   "execution_count": null,
   "metadata": {},
   "outputs": [],
   "source": [
    "test_pred = m_3.predict(testX)"
   ]
  },
  {
   "cell_type": "code",
   "execution_count": null,
   "metadata": {},
   "outputs": [],
   "source": [
    "test_diffs = []\n",
    "for i in xrange(len(testY)):\n",
    "    test_diffs.append(math.fabs(testY[i] - test_pred[i]))"
   ]
  },
  {
   "cell_type": "code",
   "execution_count": null,
   "metadata": {},
   "outputs": [],
   "source": [
    "pandas.Series(test_diffs).describe()"
   ]
  },
  {
   "cell_type": "code",
   "execution_count": null,
   "metadata": {},
   "outputs": [],
   "source": [
    "testSeries = pandas.Series(test_diffs)"
   ]
  },
  {
   "cell_type": "code",
   "execution_count": null,
   "metadata": {},
   "outputs": [],
   "source": [
    "testSeries.hist(bins=50)"
   ]
  },
  {
   "cell_type": "code",
   "execution_count": null,
   "metadata": {},
   "outputs": [],
   "source": []
  }
 ],
 "metadata": {
  "kernelspec": {
   "display_name": "Python 2",
   "language": "python",
   "name": "python2"
  },
  "language_info": {
   "codemirror_mode": {
    "name": "ipython",
    "version": 2
   },
   "file_extension": ".py",
   "mimetype": "text/x-python",
   "name": "python",
   "nbconvert_exporter": "python",
   "pygments_lexer": "ipython2",
   "version": "2.7.14"
  }
 },
 "nbformat": 4,
 "nbformat_minor": 1
}
