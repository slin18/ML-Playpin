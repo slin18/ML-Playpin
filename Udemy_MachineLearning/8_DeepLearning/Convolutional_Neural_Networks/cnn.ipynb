{
 "cells": [
  {
   "cell_type": "code",
   "execution_count": 1,
   "metadata": {},
   "outputs": [
    {
     "name": "stderr",
     "output_type": "stream",
     "text": [
      "/anaconda3/lib/python3.5/site-packages/h5py/__init__.py:36: FutureWarning: Conversion of the second argument of issubdtype from `float` to `np.floating` is deprecated. In future, it will be treated as `np.float64 == np.dtype(float).type`.\n",
      "  from ._conv import register_converters as _register_converters\n",
      "Using TensorFlow backend.\n"
     ]
    }
   ],
   "source": [
    "# Sequential - initialize our nn as sequence of layers \n",
    "# cnn is sequence of layers\n",
    "from keras.models import Sequential\n",
    "# 1st step to making cnn, add convolutional layers\n",
    "# since we're working on images (2d objects), videos are 3d\n",
    "# 2nd step - add pooling layers in 2d\n",
    "# 3rd step - flatten to convert pool feature maps thru convo and maxpooling to become feature vector\n",
    "# 4th step - add connected layers and ann\n",
    "from keras.layers import Convolution2D, MaxPooling2D, Flatten, Dense"
   ]
  },
  {
   "cell_type": "code",
   "execution_count": 2,
   "metadata": {},
   "outputs": [],
   "source": [
    "# initialize CNN\n",
    "# making a clf some images if dog or cat\n",
    "classifier = Sequential()\n",
    "# cnn is initialized"
   ]
  },
  {
   "cell_type": "code",
   "execution_count": 3,
   "metadata": {},
   "outputs": [],
   "source": [
    "# step 1 - convolution\n",
    "# 32,3,3 -> 32 feature detectors, 3 x 3 dimensions \n",
    "# input_shape = expected format of our images (colored image 3d, black and white image 2d) \n",
    "# (64,64,3) -> 64x64 size image, 3 = color image, 2 = black and white -> number of channels, \n",
    "# be careful tensorflow backend and theano backend are different format for above line is different\n",
    "# use rectify/relu activation function because we need nonlinearity for images \n",
    "classifier.add(Convolution2D(32,(3,3), input_shape = (64,64,3), activation = 'relu'))"
   ]
  },
  {
   "cell_type": "code",
   "execution_count": 4,
   "metadata": {},
   "outputs": [],
   "source": [
    "# step 2 - pooling \n",
    "# pooling is used to reduce size of feature map by 2 (divided by 2)\n",
    "classifier.add(MaxPooling2D(pool_size=(2,2)))"
   ]
  },
  {
   "cell_type": "code",
   "execution_count": 5,
   "metadata": {},
   "outputs": [],
   "source": [
    "# Add another convolution layer\n",
    "# at this point we have the pooled feature maps, so we don't need input_shape\n",
    "# then you can change feature detectors to a different value for increased accuracy \n",
    "classifier.add(Convolution2D(32,(3,3), activation = 'relu'))\n",
    "classifier.add(MaxPooling2D(pool_size=(2,2)))"
   ]
  },
  {
   "cell_type": "code",
   "execution_count": 6,
   "metadata": {},
   "outputs": [],
   "source": [
    "# step 3 - flatten\n",
    "# feature map flattening into one vector \n",
    "# high numbers represent spatial structure (or specific detail) of input image  \n",
    "# feature map corresponds to one specific feature of the image, each node that has a high number\n",
    "classifier.add(Flatten())"
   ]
  },
  {
   "cell_type": "code",
   "execution_count": 7,
   "metadata": {},
   "outputs": [],
   "source": [
    "# Step 4 - full connection\n",
    "# number of nodes in hidden layer choose between # of input nodes and # of output nodes\n",
    "# activate neurons with this activation function \n",
    "classifier.add(Dense(units = 128, activation = 'relu'))\n",
    "# cat or dog is binary outcome (soft max for more than two outcomes)\n",
    "# expect one node that tells you dog or cat \n",
    "classifier.add(Dense(units = 1, activation = 'sigmoid'))"
   ]
  },
  {
   "cell_type": "code",
   "execution_count": 8,
   "metadata": {},
   "outputs": [],
   "source": [
    "# Compiling the CNN \n",
    "# adam algo, loss func is binary crossentropy, because classification problem and binary outcome (categorical_crossentropy for more than two)\n",
    "# performance metric - accuracy is most common one\n",
    "classifier.compile(optimizer = 'adam', loss = 'binary_crossentropy', metrics = ['accuracy'])"
   ]
  },
  {
   "cell_type": "code",
   "execution_count": 9,
   "metadata": {},
   "outputs": [
    {
     "name": "stdout",
     "output_type": "stream",
     "text": [
      "Found 8000 images belonging to 2 classes.\n",
      "Found 2000 images belonging to 2 classes.\n",
      "Epoch 1/25\n",
      "250/250 [==============================] - 58s 232ms/step - loss: 0.6563 - acc: 0.5988 - val_loss: 0.6149 - val_acc: 0.6605\n",
      "Epoch 2/25\n",
      "250/250 [==============================] - 55s 219ms/step - loss: 0.5777 - acc: 0.6931 - val_loss: 0.5479 - val_acc: 0.7285\n",
      "Epoch 3/25\n",
      "250/250 [==============================] - 57s 226ms/step - loss: 0.5376 - acc: 0.7308 - val_loss: 0.5099 - val_acc: 0.7540\n",
      "Epoch 4/25\n",
      "250/250 [==============================] - 50s 200ms/step - loss: 0.5131 - acc: 0.7428 - val_loss: 0.5188 - val_acc: 0.7520\n",
      "Epoch 5/25\n",
      "250/250 [==============================] - 50s 200ms/step - loss: 0.4916 - acc: 0.7582 - val_loss: 0.4801 - val_acc: 0.7825\n",
      "Epoch 6/25\n",
      "250/250 [==============================] - 51s 202ms/step - loss: 0.4680 - acc: 0.7744 - val_loss: 0.4822 - val_acc: 0.7825\n",
      "Epoch 7/25\n",
      "250/250 [==============================] - 49s 198ms/step - loss: 0.4539 - acc: 0.7853 - val_loss: 0.4732 - val_acc: 0.7735\n",
      "Epoch 8/25\n",
      "250/250 [==============================] - 60s 238ms/step - loss: 0.4371 - acc: 0.7995 - val_loss: 0.4499 - val_acc: 0.7955\n",
      "Epoch 9/25\n",
      "250/250 [==============================] - 53s 210ms/step - loss: 0.4210 - acc: 0.8054 - val_loss: 0.4349 - val_acc: 0.8005\n",
      "Epoch 10/25\n",
      "250/250 [==============================] - 49s 198ms/step - loss: 0.4131 - acc: 0.8098 - val_loss: 0.4308 - val_acc: 0.8000\n",
      "Epoch 11/25\n",
      "250/250 [==============================] - 49s 197ms/step - loss: 0.4004 - acc: 0.8136 - val_loss: 0.4311 - val_acc: 0.8035\n",
      "Epoch 12/25\n",
      "250/250 [==============================] - 48s 194ms/step - loss: 0.3857 - acc: 0.8214 - val_loss: 0.4344 - val_acc: 0.8110\n",
      "Epoch 13/25\n",
      "250/250 [==============================] - 51s 204ms/step - loss: 0.3822 - acc: 0.8209 - val_loss: 0.4385 - val_acc: 0.8030\n",
      "Epoch 14/25\n",
      "250/250 [==============================] - 50s 199ms/step - loss: 0.3726 - acc: 0.8313 - val_loss: 0.4188 - val_acc: 0.8230\n",
      "Epoch 15/25\n",
      "250/250 [==============================] - 50s 202ms/step - loss: 0.3593 - acc: 0.8377 - val_loss: 0.4274 - val_acc: 0.8080\n",
      "Epoch 16/25\n",
      "250/250 [==============================] - 51s 203ms/step - loss: 0.3515 - acc: 0.8424 - val_loss: 0.4297 - val_acc: 0.8180\n",
      "Epoch 17/25\n",
      "250/250 [==============================] - 52s 208ms/step - loss: 0.3543 - acc: 0.8438 - val_loss: 0.4252 - val_acc: 0.8180\n",
      "Epoch 18/25\n",
      "250/250 [==============================] - 52s 206ms/step - loss: 0.3329 - acc: 0.8511 - val_loss: 0.4326 - val_acc: 0.8145\n",
      "Epoch 19/25\n",
      "250/250 [==============================] - 50s 202ms/step - loss: 0.3241 - acc: 0.8561 - val_loss: 0.4669 - val_acc: 0.8200\n",
      "Epoch 20/25\n",
      "250/250 [==============================] - 51s 203ms/step - loss: 0.3143 - acc: 0.8647 - val_loss: 0.4444 - val_acc: 0.8130\n",
      "Epoch 21/25\n",
      "250/250 [==============================] - 51s 203ms/step - loss: 0.3021 - acc: 0.8651 - val_loss: 0.4374 - val_acc: 0.8225\n",
      "Epoch 22/25\n",
      "250/250 [==============================] - 50s 201ms/step - loss: 0.2991 - acc: 0.8700 - val_loss: 0.4253 - val_acc: 0.8170\n",
      "Epoch 23/25\n",
      "250/250 [==============================] - 50s 200ms/step - loss: 0.2911 - acc: 0.8755 - val_loss: 0.4522 - val_acc: 0.8210\n",
      "Epoch 24/25\n",
      "250/250 [==============================] - 50s 200ms/step - loss: 0.2824 - acc: 0.8742 - val_loss: 0.4484 - val_acc: 0.8290\n",
      "Epoch 25/25\n",
      "250/250 [==============================] - 50s 198ms/step - loss: 0.2679 - acc: 0.8881 - val_loss: 0.4460 - val_acc: 0.8225\n"
     ]
    },
    {
     "data": {
      "text/plain": [
       "<keras.callbacks.History at 0x181e3f4898>"
      ]
     },
     "execution_count": 9,
     "metadata": {},
     "output_type": "execute_result"
    }
   ],
   "source": [
    "# Part 2 - Fitting the CNN to the images \n",
    "# image augmentation allows us to enrich our datasets without adding more images with little or no overfitting\n",
    "from keras.preprocessing.image import ImageDataGenerator\n",
    "\n",
    "# image scaling, shearing = geometric transformation, zoom range = random zoom, horizontal_flip = flip images \n",
    "train_datagen = ImageDataGenerator(\n",
    "        #rescale pixel values between 0 or 1, because pixels take value from 0 to 255\n",
    "        rescale=1./255,\n",
    "        shear_range=0.2,\n",
    "        zoom_range=0.2,\n",
    "        horizontal_flip=True)\n",
    "# rescale images of our test set\n",
    "test_datagen = ImageDataGenerator(rescale=1./255)\n",
    "# train and valid generator create training and test/validation set \n",
    "training_set = train_datagen.flow_from_directory(\n",
    "        'dataset/training_set',\n",
    "        # dimensions expected from CNN input_shape (64,64,3)\n",
    "        target_size=(64, 64),\n",
    "        # number of images that will go through CNN\n",
    "        batch_size=32,\n",
    "        class_mode='binary')\n",
    "\n",
    "test_set = test_datagen.flow_from_directory(\n",
    "        'dataset/test_set',\n",
    "        target_size=(64, 64),\n",
    "        batch_size=32,\n",
    "        class_mode='binary')\n",
    "\n",
    "# fit cnn onto training set and testing peformance on test set\n",
    "# steps_per_epoch = no of train samples/batch_size and validation_steps = no of validation samples/batch_size\n",
    "classifier.fit_generator(\n",
    "        training_set,\n",
    "        steps_per_epoch=8000/32,\n",
    "        epochs=25,\n",
    "        validation_data=test_set,\n",
    "        validation_steps=2000/32)"
   ]
  },
  {
   "cell_type": "code",
   "execution_count": 10,
   "metadata": {},
   "outputs": [],
   "source": [
    "# add another convolution layer or/and\n",
    "# add another fully connected layer to get 80% accuracy \n",
    "# insert below after first pooling "
   ]
  }
 ],
 "metadata": {
  "kernelspec": {
   "display_name": "Python 3",
   "language": "python",
   "name": "python3"
  },
  "language_info": {
   "codemirror_mode": {
    "name": "ipython",
    "version": 3
   },
   "file_extension": ".py",
   "mimetype": "text/x-python",
   "name": "python",
   "nbconvert_exporter": "python",
   "pygments_lexer": "ipython3",
   "version": "3.5.4"
  }
 },
 "nbformat": 4,
 "nbformat_minor": 2
}
