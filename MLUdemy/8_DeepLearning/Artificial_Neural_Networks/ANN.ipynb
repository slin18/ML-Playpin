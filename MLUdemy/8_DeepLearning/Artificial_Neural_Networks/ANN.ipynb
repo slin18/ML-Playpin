{
 "cells": [
  {
   "cell_type": "markdown",
   "metadata": {},
   "source": [
    "## Artificial Neural Network\n",
    "- Theano: open source numerical computation library that can run on CPU or GPU\n",
    "- Tensorflow: open source numerical computation library that can run on CPU or GPU\n",
    "- Keras: builds DL NN with few lines to use above two libraries"
   ]
  },
  {
   "cell_type": "code",
   "execution_count": 1,
   "metadata": {},
   "outputs": [],
   "source": [
    "import numpy as np \n",
    "import matplotlib.pyplot as plt\n",
    "import pandas as pd"
   ]
  },
  {
   "cell_type": "code",
   "execution_count": 2,
   "metadata": {},
   "outputs": [
    {
     "data": {
      "text/html": [
       "<div>\n",
       "<style scoped>\n",
       "    .dataframe tbody tr th:only-of-type {\n",
       "        vertical-align: middle;\n",
       "    }\n",
       "\n",
       "    .dataframe tbody tr th {\n",
       "        vertical-align: top;\n",
       "    }\n",
       "\n",
       "    .dataframe thead th {\n",
       "        text-align: right;\n",
       "    }\n",
       "</style>\n",
       "<table border=\"1\" class=\"dataframe\">\n",
       "  <thead>\n",
       "    <tr style=\"text-align: right;\">\n",
       "      <th></th>\n",
       "      <th>RowNumber</th>\n",
       "      <th>CustomerId</th>\n",
       "      <th>Surname</th>\n",
       "      <th>CreditScore</th>\n",
       "      <th>Geography</th>\n",
       "      <th>Gender</th>\n",
       "      <th>Age</th>\n",
       "      <th>Tenure</th>\n",
       "      <th>Balance</th>\n",
       "      <th>NumOfProducts</th>\n",
       "      <th>HasCrCard</th>\n",
       "      <th>IsActiveMember</th>\n",
       "      <th>EstimatedSalary</th>\n",
       "      <th>Exited</th>\n",
       "    </tr>\n",
       "  </thead>\n",
       "  <tbody>\n",
       "    <tr>\n",
       "      <th>0</th>\n",
       "      <td>1</td>\n",
       "      <td>15634602</td>\n",
       "      <td>Hargrave</td>\n",
       "      <td>619</td>\n",
       "      <td>France</td>\n",
       "      <td>Female</td>\n",
       "      <td>42</td>\n",
       "      <td>2</td>\n",
       "      <td>0.00</td>\n",
       "      <td>1</td>\n",
       "      <td>1</td>\n",
       "      <td>1</td>\n",
       "      <td>101348.88</td>\n",
       "      <td>1</td>\n",
       "    </tr>\n",
       "    <tr>\n",
       "      <th>1</th>\n",
       "      <td>2</td>\n",
       "      <td>15647311</td>\n",
       "      <td>Hill</td>\n",
       "      <td>608</td>\n",
       "      <td>Spain</td>\n",
       "      <td>Female</td>\n",
       "      <td>41</td>\n",
       "      <td>1</td>\n",
       "      <td>83807.86</td>\n",
       "      <td>1</td>\n",
       "      <td>0</td>\n",
       "      <td>1</td>\n",
       "      <td>112542.58</td>\n",
       "      <td>0</td>\n",
       "    </tr>\n",
       "    <tr>\n",
       "      <th>2</th>\n",
       "      <td>3</td>\n",
       "      <td>15619304</td>\n",
       "      <td>Onio</td>\n",
       "      <td>502</td>\n",
       "      <td>France</td>\n",
       "      <td>Female</td>\n",
       "      <td>42</td>\n",
       "      <td>8</td>\n",
       "      <td>159660.80</td>\n",
       "      <td>3</td>\n",
       "      <td>1</td>\n",
       "      <td>0</td>\n",
       "      <td>113931.57</td>\n",
       "      <td>1</td>\n",
       "    </tr>\n",
       "    <tr>\n",
       "      <th>3</th>\n",
       "      <td>4</td>\n",
       "      <td>15701354</td>\n",
       "      <td>Boni</td>\n",
       "      <td>699</td>\n",
       "      <td>France</td>\n",
       "      <td>Female</td>\n",
       "      <td>39</td>\n",
       "      <td>1</td>\n",
       "      <td>0.00</td>\n",
       "      <td>2</td>\n",
       "      <td>0</td>\n",
       "      <td>0</td>\n",
       "      <td>93826.63</td>\n",
       "      <td>0</td>\n",
       "    </tr>\n",
       "    <tr>\n",
       "      <th>4</th>\n",
       "      <td>5</td>\n",
       "      <td>15737888</td>\n",
       "      <td>Mitchell</td>\n",
       "      <td>850</td>\n",
       "      <td>Spain</td>\n",
       "      <td>Female</td>\n",
       "      <td>43</td>\n",
       "      <td>2</td>\n",
       "      <td>125510.82</td>\n",
       "      <td>1</td>\n",
       "      <td>1</td>\n",
       "      <td>1</td>\n",
       "      <td>79084.10</td>\n",
       "      <td>0</td>\n",
       "    </tr>\n",
       "  </tbody>\n",
       "</table>\n",
       "</div>"
      ],
      "text/plain": [
       "   RowNumber  CustomerId   Surname  CreditScore Geography  Gender  Age  \\\n",
       "0          1    15634602  Hargrave          619    France  Female   42   \n",
       "1          2    15647311      Hill          608     Spain  Female   41   \n",
       "2          3    15619304      Onio          502    France  Female   42   \n",
       "3          4    15701354      Boni          699    France  Female   39   \n",
       "4          5    15737888  Mitchell          850     Spain  Female   43   \n",
       "\n",
       "   Tenure    Balance  NumOfProducts  HasCrCard  IsActiveMember  \\\n",
       "0       2       0.00              1          1               1   \n",
       "1       1   83807.86              1          0               1   \n",
       "2       8  159660.80              3          1               0   \n",
       "3       1       0.00              2          0               0   \n",
       "4       2  125510.82              1          1               1   \n",
       "\n",
       "   EstimatedSalary  Exited  \n",
       "0        101348.88       1  \n",
       "1        112542.58       0  \n",
       "2        113931.57       1  \n",
       "3         93826.63       0  \n",
       "4         79084.10       0  "
      ]
     },
     "execution_count": 2,
     "metadata": {},
     "output_type": "execute_result"
    }
   ],
   "source": [
    "df = pd.read_csv('Churn_Modelling.csv')\n",
    "df.head()"
   ]
  },
  {
   "cell_type": "code",
   "execution_count": 3,
   "metadata": {},
   "outputs": [],
   "source": [
    "x = df.iloc[:,3:13].values\n",
    "y = df.iloc[:, 13].values"
   ]
  },
  {
   "cell_type": "code",
   "execution_count": 4,
   "metadata": {},
   "outputs": [],
   "source": [
    "# Encode categorical data\n",
    "from sklearn.preprocessing import LabelEncoder, OneHotEncoder\n",
    "labelencoder_country = LabelEncoder()\n",
    "x[:,1] = labelencoder_country.fit_transform(x[:,1])\n",
    "labelencoder_gender = LabelEncoder()\n",
    "x[:,2] = labelencoder_country.fit_transform(x[:,2])\n",
    "\n",
    "# no relational order between the countries i.e Spain not higher than Germany\n",
    "onehotencoder = OneHotEncoder(categorical_features = [1]) #index 1\n",
    "x = onehotencoder.fit_transform(x).toarray()\n",
    "# remove dummy variable 0,1 0,0 1,0 all represent seperate countries\n",
    "x = x[:,1:]"
   ]
  },
  {
   "cell_type": "code",
   "execution_count": 5,
   "metadata": {},
   "outputs": [],
   "source": [
    "from sklearn.model_selection import train_test_split\n",
    "x_train, x_test, y_train, y_test = train_test_split(x,y,test_size = 0.2, random_state = 0)"
   ]
  },
  {
   "cell_type": "code",
   "execution_count": 6,
   "metadata": {},
   "outputs": [],
   "source": [
    "# a lot of computations in deep learning, so its a must, don't want one indepedent variable dominating\n",
    "from sklearn.preprocessing import StandardScaler\n",
    "sc = StandardScaler()\n",
    "x_train = sc.fit_transform(x_train)\n",
    "x_test = sc.fit_transform(x_test)"
   ]
  },
  {
   "cell_type": "code",
   "execution_count": 7,
   "metadata": {},
   "outputs": [
    {
     "name": "stderr",
     "output_type": "stream",
     "text": [
      "/anaconda3/lib/python3.5/site-packages/h5py/__init__.py:36: FutureWarning: Conversion of the second argument of issubdtype from `float` to `np.floating` is deprecated. In future, it will be treated as `np.float64 == np.dtype(float).type`.\n",
      "  from ._conv import register_converters as _register_converters\n",
      "Using TensorFlow backend.\n"
     ]
    }
   ],
   "source": [
    "import keras\n",
    "from keras.models import Sequential \n",
    "from keras.layers import Dense"
   ]
  },
  {
   "cell_type": "code",
   "execution_count": 8,
   "metadata": {},
   "outputs": [],
   "source": [
    "# ANN - sequence of layers\n",
    "classifier = Sequential()"
   ]
  },
  {
   "cell_type": "markdown",
   "metadata": {},
   "source": [
    "1. Randomly initialize weight to small numbs\n",
    "2. Input first observation of your datset in the input layer. Each feature is one input node\n",
    "3. Forward-Propagation from left to right, neurons are activated in a way that the impact of each neuron's activation is limited by the weights. Propagate the activations until getting the predicted result y. \n",
    "4. Compare predicted to actual result. Measure the generated error.\n",
    "5. Back Propagation: from right to left, the error is back-propagated. update the weights according to how much they are responsible for the error. The learning rate decides by how much we update the weights. \n",
    "6. Repeat 1-5 and update the weights after each observation (Reinforcement Learning) or update after only a batch of observations (Batch Learning)\n",
    "7. When whole training set passed through the ANN that makes an epoch. Redo more epochs"
   ]
  },
  {
   "cell_type": "code",
   "execution_count": 9,
   "metadata": {},
   "outputs": [],
   "source": [
    "# Adding input layer and first hidden layer \n",
    "# sigmoid function for probability if they leave the bank - outer layer\n",
    "# rectifer function for hidden layer\n",
    "# output_dim/units = number nodes in input layer is number of indepdent variables which is 11 (x.train.shape) nodes in output layer is 1 when binary outcome is 1 or 0, 11+1/2 = 6 nodes in hidden layer \n",
    "# relu = rectifier function \n",
    "# input_dim = number of indepdent variables. Havent created any layer yet, doesn't know what the nodes are expecting as inputs, so the warning comes\n",
    "classifier.add(Dense(6, kernel_initializer='uniform', activation='relu', input_dim = 11))"
   ]
  },
  {
   "cell_type": "code",
   "execution_count": 10,
   "metadata": {},
   "outputs": [],
   "source": [
    "# Add second hidden layer\n",
    "# knows what input parameter to expect now, so input_dim is not necessary\n",
    "classifier.add(Dense(6, kernel_initializer='uniform', activation='relu'))"
   ]
  },
  {
   "cell_type": "code",
   "execution_count": 11,
   "metadata": {},
   "outputs": [],
   "source": [
    "# Add output layer\n",
    "# output is one node, uniform for weight initialization, change activation to sigmoid for probabilities\n",
    "# depedent variable with more than two categories use softmax function, this case is only two categories so sigmoid suffices\n",
    "classifier.add(Dense(1, kernel_initializer='uniform', activation='sigmoid'))"
   ]
  },
  {
   "cell_type": "code",
   "execution_count": 12,
   "metadata": {},
   "outputs": [],
   "source": [
    "# Compiling ANN \n",
    "# optimizer - algorithm to find most optimal set of weights\n",
    "# loss - category_crossentropy for depedent variable with more than 2 categories\n",
    "# metrics - only takes list \n",
    "classifier.compile(optimizer ='adam', loss = 'binary_crossentropy', metrics = ['accuracy'])"
   ]
  },
  {
   "cell_type": "code",
   "execution_count": 13,
   "metadata": {},
   "outputs": [
    {
     "name": "stdout",
     "output_type": "stream",
     "text": [
      "Epoch 1/100\n",
      "8000/8000 [==============================] - 3s 336us/step - loss: 0.4821 - acc: 0.7955\n",
      "Epoch 2/100\n",
      "8000/8000 [==============================] - 2s 267us/step - loss: 0.4284 - acc: 0.7960\n",
      "Epoch 3/100\n",
      "8000/8000 [==============================] - 2s 268us/step - loss: 0.4242 - acc: 0.7982\n",
      "Epoch 4/100\n",
      "8000/8000 [==============================] - 2s 269us/step - loss: 0.4203 - acc: 0.8215\n",
      "Epoch 5/100\n",
      "8000/8000 [==============================] - 2s 269us/step - loss: 0.4176 - acc: 0.8240\n",
      "Epoch 6/100\n",
      "8000/8000 [==============================] - 2s 279us/step - loss: 0.4154 - acc: 0.8286\n",
      "Epoch 7/100\n",
      "8000/8000 [==============================] - 2s 272us/step - loss: 0.4133 - acc: 0.8296\n",
      "Epoch 8/100\n",
      "8000/8000 [==============================] - 2s 264us/step - loss: 0.4117 - acc: 0.8317\n",
      "Epoch 9/100\n",
      "8000/8000 [==============================] - 2s 262us/step - loss: 0.4108 - acc: 0.8327\n",
      "Epoch 10/100\n",
      "8000/8000 [==============================] - 2s 262us/step - loss: 0.4096 - acc: 0.8339\n",
      "Epoch 11/100\n",
      "8000/8000 [==============================] - 3s 343us/step - loss: 0.4086 - acc: 0.8335\n",
      "Epoch 12/100\n",
      "8000/8000 [==============================] - 2s 280us/step - loss: 0.4074 - acc: 0.8356\n",
      "Epoch 13/100\n",
      "8000/8000 [==============================] - 2s 275us/step - loss: 0.4077 - acc: 0.8346\n",
      "Epoch 14/100\n",
      "8000/8000 [==============================] - 2s 262us/step - loss: 0.4066 - acc: 0.8344\n",
      "Epoch 15/100\n",
      "8000/8000 [==============================] - 2s 263us/step - loss: 0.4061 - acc: 0.8347\n",
      "Epoch 16/100\n",
      "8000/8000 [==============================] - 2s 264us/step - loss: 0.4055 - acc: 0.8346\n",
      "Epoch 17/100\n",
      "8000/8000 [==============================] - 2s 259us/step - loss: 0.4055 - acc: 0.8364\n",
      "Epoch 18/100\n",
      "8000/8000 [==============================] - 2s 261us/step - loss: 0.4047 - acc: 0.8347\n",
      "Epoch 19/100\n",
      "8000/8000 [==============================] - 2s 261us/step - loss: 0.4047 - acc: 0.8354\n",
      "Epoch 20/100\n",
      "8000/8000 [==============================] - 2s 259us/step - loss: 0.4041 - acc: 0.8362\n",
      "Epoch 21/100\n",
      "8000/8000 [==============================] - 2s 265us/step - loss: 0.4039 - acc: 0.8349\n",
      "Epoch 22/100\n",
      "8000/8000 [==============================] - 2s 264us/step - loss: 0.4036 - acc: 0.8349\n",
      "Epoch 23/100\n",
      "8000/8000 [==============================] - 2s 281us/step - loss: 0.4037 - acc: 0.8339\n",
      "Epoch 24/100\n",
      "8000/8000 [==============================] - 3s 341us/step - loss: 0.4027 - acc: 0.8359\n",
      "Epoch 25/100\n",
      "8000/8000 [==============================] - 2s 309us/step - loss: 0.4030 - acc: 0.8352\n",
      "Epoch 26/100\n",
      "8000/8000 [==============================] - 3s 327us/step - loss: 0.4024 - acc: 0.8351\n",
      "Epoch 27/100\n",
      "8000/8000 [==============================] - 2s 298us/step - loss: 0.4026 - acc: 0.8352\n",
      "Epoch 28/100\n",
      "8000/8000 [==============================] - 2s 282us/step - loss: 0.4026 - acc: 0.8354\n",
      "Epoch 29/100\n",
      "8000/8000 [==============================] - 2s 289us/step - loss: 0.4018 - acc: 0.8337\n",
      "Epoch 30/100\n",
      "8000/8000 [==============================] - 2s 299us/step - loss: 0.4018 - acc: 0.8351\n",
      "Epoch 31/100\n",
      "8000/8000 [==============================] - 2s 282us/step - loss: 0.4014 - acc: 0.8347\n",
      "Epoch 32/100\n",
      "8000/8000 [==============================] - 2s 305us/step - loss: 0.4018 - acc: 0.8347\n",
      "Epoch 33/100\n",
      "8000/8000 [==============================] - 2s 282us/step - loss: 0.4017 - acc: 0.8354\n",
      "Epoch 34/100\n",
      "8000/8000 [==============================] - 2s 282us/step - loss: 0.4015 - acc: 0.8337\n",
      "Epoch 35/100\n",
      "8000/8000 [==============================] - 2s 275us/step - loss: 0.4015 - acc: 0.8362\n",
      "Epoch 36/100\n",
      "8000/8000 [==============================] - 2s 269us/step - loss: 0.4014 - acc: 0.8340\n",
      "Epoch 37/100\n",
      "8000/8000 [==============================] - 2s 267us/step - loss: 0.4010 - acc: 0.8351\n",
      "Epoch 38/100\n",
      "8000/8000 [==============================] - 2s 269us/step - loss: 0.4013 - acc: 0.8354\n",
      "Epoch 39/100\n",
      "8000/8000 [==============================] - 2s 294us/step - loss: 0.4012 - acc: 0.8347\n",
      "Epoch 40/100\n",
      "8000/8000 [==============================] - 2s 287us/step - loss: 0.4007 - acc: 0.8356\n",
      "Epoch 41/100\n",
      "8000/8000 [==============================] - 3s 326us/step - loss: 0.4006 - acc: 0.8352\n",
      "Epoch 42/100\n",
      "8000/8000 [==============================] - 3s 316us/step - loss: 0.4009 - acc: 0.8356\n",
      "Epoch 43/100\n",
      "8000/8000 [==============================] - 2s 276us/step - loss: 0.4007 - acc: 0.8365\n",
      "Epoch 44/100\n",
      "8000/8000 [==============================] - 2s 271us/step - loss: 0.3998 - acc: 0.8342\n",
      "Epoch 45/100\n",
      "8000/8000 [==============================] - 2s 278us/step - loss: 0.4005 - acc: 0.8356\n",
      "Epoch 46/100\n",
      "8000/8000 [==============================] - 2s 287us/step - loss: 0.4006 - acc: 0.8351\n",
      "Epoch 47/100\n",
      "8000/8000 [==============================] - 2s 289us/step - loss: 0.4004 - acc: 0.8352\n",
      "Epoch 48/100\n",
      "8000/8000 [==============================] - 2s 272us/step - loss: 0.3997 - acc: 0.8350\n",
      "Epoch 49/100\n",
      "8000/8000 [==============================] - 2s 270us/step - loss: 0.4003 - acc: 0.8345\n",
      "Epoch 50/100\n",
      "8000/8000 [==============================] - 2s 266us/step - loss: 0.4000 - acc: 0.8359\n",
      "Epoch 51/100\n",
      "8000/8000 [==============================] - 2s 273us/step - loss: 0.4005 - acc: 0.8352\n",
      "Epoch 52/100\n",
      "8000/8000 [==============================] - 2s 287us/step - loss: 0.4001 - acc: 0.8349\n",
      "Epoch 53/100\n",
      "8000/8000 [==============================] - 2s 282us/step - loss: 0.3998 - acc: 0.8330\n",
      "Epoch 54/100\n",
      "8000/8000 [==============================] - 2s 278us/step - loss: 0.4004 - acc: 0.8355\n",
      "Epoch 55/100\n",
      "8000/8000 [==============================] - 2s 281us/step - loss: 0.3997 - acc: 0.8367\n",
      "Epoch 56/100\n",
      "8000/8000 [==============================] - 2s 280us/step - loss: 0.4000 - acc: 0.8369\n",
      "Epoch 57/100\n",
      "8000/8000 [==============================] - 2s 281us/step - loss: 0.3999 - acc: 0.8359\n",
      "Epoch 58/100\n",
      "8000/8000 [==============================] - 2s 291us/step - loss: 0.3990 - acc: 0.8352\n",
      "Epoch 59/100\n",
      "8000/8000 [==============================] - 2s 286us/step - loss: 0.3999 - acc: 0.8356\n",
      "Epoch 60/100\n",
      "8000/8000 [==============================] - 2s 282us/step - loss: 0.3995 - acc: 0.8359\n",
      "Epoch 61/100\n",
      "8000/8000 [==============================] - 2s 281us/step - loss: 0.3992 - acc: 0.8366\n",
      "Epoch 62/100\n",
      "8000/8000 [==============================] - 2s 288us/step - loss: 0.3992 - acc: 0.8350\n",
      "Epoch 63/100\n",
      "8000/8000 [==============================] - 2s 275us/step - loss: 0.3992 - acc: 0.8354\n",
      "Epoch 64/100\n",
      "8000/8000 [==============================] - 2s 277us/step - loss: 0.3995 - acc: 0.8350\n",
      "Epoch 65/100\n",
      "8000/8000 [==============================] - 2s 277us/step - loss: 0.3987 - acc: 0.8351\n",
      "Epoch 66/100\n",
      "8000/8000 [==============================] - 2s 270us/step - loss: 0.3993 - acc: 0.8347\n",
      "Epoch 67/100\n",
      "8000/8000 [==============================] - 2s 278us/step - loss: 0.3995 - acc: 0.8356\n",
      "Epoch 68/100\n",
      "8000/8000 [==============================] - 2s 291us/step - loss: 0.3995 - acc: 0.8356\n",
      "Epoch 69/100\n",
      "8000/8000 [==============================] - 3s 321us/step - loss: 0.3993 - acc: 0.8347\n",
      "Epoch 70/100\n",
      "8000/8000 [==============================] - 2s 283us/step - loss: 0.3989 - acc: 0.8362\n",
      "Epoch 71/100\n",
      "8000/8000 [==============================] - 2s 274us/step - loss: 0.3991 - acc: 0.8351\n",
      "Epoch 72/100\n",
      "8000/8000 [==============================] - 2s 266us/step - loss: 0.3987 - acc: 0.8352\n",
      "Epoch 73/100\n",
      "8000/8000 [==============================] - 2s 270us/step - loss: 0.3992 - acc: 0.8350\n",
      "Epoch 74/100\n",
      "8000/8000 [==============================] - 2s 278us/step - loss: 0.3985 - acc: 0.8347\n",
      "Epoch 75/100\n",
      "8000/8000 [==============================] - 2s 277us/step - loss: 0.3989 - acc: 0.8351\n",
      "Epoch 76/100\n",
      "8000/8000 [==============================] - 2s 274us/step - loss: 0.3990 - acc: 0.8341\n",
      "Epoch 77/100\n",
      "8000/8000 [==============================] - 2s 264us/step - loss: 0.3991 - acc: 0.8360\n",
      "Epoch 78/100\n",
      "8000/8000 [==============================] - 2s 268us/step - loss: 0.3981 - acc: 0.8370\n",
      "Epoch 79/100\n",
      "8000/8000 [==============================] - 2s 283us/step - loss: 0.3986 - acc: 0.8347\n",
      "Epoch 80/100\n",
      "8000/8000 [==============================] - 2s 284us/step - loss: 0.3988 - acc: 0.8341\n",
      "Epoch 81/100\n",
      "8000/8000 [==============================] - 2s 276us/step - loss: 0.3979 - acc: 0.8347\n",
      "Epoch 82/100\n"
     ]
    },
    {
     "name": "stdout",
     "output_type": "stream",
     "text": [
      "8000/8000 [==============================] - 2s 279us/step - loss: 0.3989 - acc: 0.8342\n",
      "Epoch 83/100\n",
      "8000/8000 [==============================] - 2s 271us/step - loss: 0.3989 - acc: 0.8362\n",
      "Epoch 84/100\n",
      "8000/8000 [==============================] - 2s 271us/step - loss: 0.3987 - acc: 0.8355\n",
      "Epoch 85/100\n",
      "8000/8000 [==============================] - 2s 267us/step - loss: 0.3984 - acc: 0.8355\n",
      "Epoch 86/100\n",
      "8000/8000 [==============================] - 2s 260us/step - loss: 0.3991 - acc: 0.8344\n",
      "Epoch 87/100\n",
      "8000/8000 [==============================] - 2s 263us/step - loss: 0.3980 - acc: 0.8364\n",
      "Epoch 88/100\n",
      "8000/8000 [==============================] - 2s 263us/step - loss: 0.3982 - acc: 0.8349\n",
      "Epoch 89/100\n",
      "8000/8000 [==============================] - 2s 262us/step - loss: 0.3980 - acc: 0.8342\n",
      "Epoch 90/100\n",
      "8000/8000 [==============================] - 2s 269us/step - loss: 0.3984 - acc: 0.8365\n",
      "Epoch 91/100\n",
      "8000/8000 [==============================] - 2s 292us/step - loss: 0.3980 - acc: 0.8351\n",
      "Epoch 92/100\n",
      "8000/8000 [==============================] - 2s 279us/step - loss: 0.3980 - acc: 0.8360\n",
      "Epoch 93/100\n",
      "8000/8000 [==============================] - 2s 295us/step - loss: 0.3985 - acc: 0.8345\n",
      "Epoch 94/100\n",
      "8000/8000 [==============================] - 2s 283us/step - loss: 0.3987 - acc: 0.8355\n",
      "Epoch 95/100\n",
      "8000/8000 [==============================] - 2s 283us/step - loss: 0.3981 - acc: 0.8361\n",
      "Epoch 96/100\n",
      "8000/8000 [==============================] - 2s 282us/step - loss: 0.3983 - acc: 0.8366\n",
      "Epoch 97/100\n",
      "8000/8000 [==============================] - 2s 272us/step - loss: 0.3985 - acc: 0.8345\n",
      "Epoch 98/100\n",
      "8000/8000 [==============================] - 2s 267us/step - loss: 0.3981 - acc: 0.8357\n",
      "Epoch 99/100\n",
      "8000/8000 [==============================] - 2s 277us/step - loss: 0.3982 - acc: 0.8350\n",
      "Epoch 100/100\n",
      "8000/8000 [==============================] - 2s 280us/step - loss: 0.3984 - acc: 0.8364\n"
     ]
    },
    {
     "data": {
      "text/plain": [
       "<keras.callbacks.History at 0x115d429b0>"
      ]
     },
     "execution_count": 13,
     "metadata": {},
     "output_type": "execute_result"
    }
   ],
   "source": [
    "# Fitting the ANN to the training set\n",
    "classifier.fit(x_train, y_train, batch_size = 10, epochs = 100)"
   ]
  },
  {
   "cell_type": "code",
   "execution_count": 14,
   "metadata": {},
   "outputs": [
    {
     "data": {
      "text/plain": [
       "array([[False],\n",
       "       [False],\n",
       "       [False],\n",
       "       ...,\n",
       "       [False],\n",
       "       [False],\n",
       "       [False]])"
      ]
     },
     "execution_count": 14,
     "metadata": {},
     "output_type": "execute_result"
    }
   ],
   "source": [
    "y_pred = classifier.predict(x_test)\n",
    "# Create a threshold >0.5 return true otherwise false\n",
    "y_pred = (y_pred > 0.5)\n",
    "y_pred"
   ]
  },
  {
   "cell_type": "code",
   "execution_count": 15,
   "metadata": {},
   "outputs": [
    {
     "data": {
      "text/plain": [
       "array([[1539,   56],\n",
       "       [ 251,  154]])"
      ]
     },
     "execution_count": 15,
     "metadata": {},
     "output_type": "execute_result"
    }
   ],
   "source": [
    "from sklearn.metrics import confusion_matrix \n",
    "cm = confusion_matrix(y_test, y_pred)\n",
    "cm"
   ]
  },
  {
   "cell_type": "code",
   "execution_count": 16,
   "metadata": {},
   "outputs": [
    {
     "data": {
      "text/plain": [
       "0.8595"
      ]
     },
     "execution_count": 16,
     "metadata": {},
     "output_type": "execute_result"
    }
   ],
   "source": [
    "(1515+204)/2000"
   ]
  },
  {
   "cell_type": "markdown",
   "metadata": {},
   "source": [
    "Close to 86% accuracy"
   ]
  }
 ],
 "metadata": {
  "kernelspec": {
   "display_name": "Python 3",
   "language": "python",
   "name": "python3"
  },
  "language_info": {
   "codemirror_mode": {
    "name": "ipython",
    "version": 3
   },
   "file_extension": ".py",
   "mimetype": "text/x-python",
   "name": "python",
   "nbconvert_exporter": "python",
   "pygments_lexer": "ipython3",
   "version": "3.5.4"
  }
 },
 "nbformat": 4,
 "nbformat_minor": 2
}
