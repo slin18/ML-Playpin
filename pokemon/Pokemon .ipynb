{
 "cells": [
  {
   "cell_type": "markdown",
   "metadata": {},
   "source": [
    "# Context\n",
    "With the rise of the popularity of machine learning, this is a good opportunity to share a wide database of the even more popular video-game Pokémon by Nintendo, Game freak, and Creatures, originally released in 1996.\n",
    "\n",
    "\n",
    "Pokémon started as a Role Playing Game (RPG), but due to its increasing popularity, its owners ended up producing many TV series, manga comics, and so on, as well as other types of video-games (like the famous Pokémon Go!).\n",
    "\n",
    "\n",
    "This dataset is focused on the stats and features of the Pokémon in the RPGs. Until now (08/01/2017) seven generations of Pokémon have been published. All in all, this dataset does not include the data corresponding to the last generation, since 1) I created the databased when the seventh generation was not released yet, and 2) this database is a modification+extension of the database \"721 Pokemon with stats\" by Alberto Barradas (https://www.kaggle.com/abcsds/pokemon), which does not include (of course) the latest generation either.\n",
    "\n",
    "# Content\n",
    "This database includes 21 variables per each of the 721 Pokémon of the first six generations, plus the Pokémon ID and its name. These variables are briefly described next:\n",
    "\n",
    "- Number. Pokémon ID in the Pokédex.\n",
    "- Name. Name of the Pokémon.\n",
    "- Type_1. Primary type.\n",
    "- Type_2. Second type, in case the Pokémon has it.\n",
    "- Total. Sum of all the base stats (Health Points, Attack, Defense, Special Attack, Special Defense, and Speed).\n",
    "- HP. Base Health Points.\n",
    "- Attack. Base Attack.\n",
    "- Defense. Base Defense.\n",
    "- Sp_Atk. Base Special Attack.\n",
    "- Sp_Def. Base Special Defense.\n",
    "- Speed. Base Speed.\n",
    "- Generation. Number of the generation when the Pokémon was introduced.\n",
    "- isLegendary. Boolean that indicates whether the Pokémon is Legendary or not.\n",
    "- Color. Color of the Pokémon according to the Pokédex.\n",
    "- hasGender. Boolean that indicates if the Pokémon can be classified as female or male.\n",
    "- Pr_male. In case the Pokémon has Gender, the probability of its being male. The probability of being female is, of course, 1 minus this value.\n",
    "- Egg_Group_1. Egg Group of the Pokémon.\n",
    "- Egg_Group_2. Second Egg Group of the Pokémon, in case it has two.\n",
    "- hasMegaEvolution. Boolean that indicates whether the Pokémon is able to Mega-evolve or not.\n",
    "- Height_m. Height of the Pokémon, in meters.\n",
    "- Weight_kg. Weight of the Pokémon, in kilograms.\n",
    "- Catch_Rate. Catch Rate.\n",
    "- Body_Style. Body Style of the Pokémon according to the Pokédex.\n",
    "\n",
    "## Notes\n",
    "Please note that many Pokémon are multi-form, and also some of them can Mega-evolve. I wanted to keep the structure of the dataset as simple and general as possible, as well as the Number variable (the ID of the Pokémon) unique. Hence, in the cases of the multi-form Pokémon, or the ones capable of Mega-evolve, I just chose one of the forms, the one I (and my brother) considered the standard and/or the most common. The specific choice for each of this Pokémon are shown below:\n",
    "\n",
    "Mega-Evolutions are not considered as Pokémon.\n",
    "- Kyogre, Groudon. Primal forms not considered.\n",
    "- Deoxis. Only normal form considered.\n",
    "- Wormadam. Only plant form considered.\n",
    "- Rotom. Only normal form considered, the one with types Electric and Ghost.\n",
    "- Giratina. Origin form considered.\n",
    "- Shaymin. Land form considered.\n",
    "- Darmanitan. Standard mode considered.\n",
    "- Tornadus, Thundurus, Landorus. Incarnate form considered.\n",
    "- Kyurem. Normal form considered, not white or black forms.\n",
    "- Meloetta. Aria form considered.\n",
    "- Mewstic. Both female and male forms are equal in the considered variables.\n",
    "- Aegislash. Shield form considered.\n",
    "- Pumpkaboo, Gourgeist. Average size considered.\n",
    "- Zygarde. 50% form considered.\n",
    "- Hoopa. Confined form considered."
   ]
  },
  {
   "cell_type": "code",
   "execution_count": 1,
   "metadata": {
    "collapsed": true
   },
   "outputs": [],
   "source": [
    "import pandas as pd\n",
    "import numpy as np \n",
    "import matplotlib.pyplot as plt"
   ]
  },
  {
   "cell_type": "code",
   "execution_count": 2,
   "metadata": {
    "scrolled": true
   },
   "outputs": [
    {
     "data": {
      "text/html": [
       "<div>\n",
       "<style>\n",
       "    .dataframe thead tr:only-child th {\n",
       "        text-align: right;\n",
       "    }\n",
       "\n",
       "    .dataframe thead th {\n",
       "        text-align: left;\n",
       "    }\n",
       "\n",
       "    .dataframe tbody tr th {\n",
       "        vertical-align: top;\n",
       "    }\n",
       "</style>\n",
       "<table border=\"1\" class=\"dataframe\">\n",
       "  <thead>\n",
       "    <tr style=\"text-align: right;\">\n",
       "      <th></th>\n",
       "      <th>Number</th>\n",
       "      <th>Name</th>\n",
       "      <th>Type_1</th>\n",
       "      <th>Type_2</th>\n",
       "      <th>Total</th>\n",
       "      <th>HP</th>\n",
       "      <th>Attack</th>\n",
       "      <th>Defense</th>\n",
       "      <th>Sp_Atk</th>\n",
       "      <th>Sp_Def</th>\n",
       "      <th>...</th>\n",
       "      <th>Color</th>\n",
       "      <th>hasGender</th>\n",
       "      <th>Pr_Male</th>\n",
       "      <th>Egg_Group_1</th>\n",
       "      <th>Egg_Group_2</th>\n",
       "      <th>hasMegaEvolution</th>\n",
       "      <th>Height_m</th>\n",
       "      <th>Weight_kg</th>\n",
       "      <th>Catch_Rate</th>\n",
       "      <th>Body_Style</th>\n",
       "    </tr>\n",
       "  </thead>\n",
       "  <tbody>\n",
       "    <tr>\n",
       "      <th>0</th>\n",
       "      <td>1</td>\n",
       "      <td>Bulbasaur</td>\n",
       "      <td>Grass</td>\n",
       "      <td>Poison</td>\n",
       "      <td>318</td>\n",
       "      <td>45</td>\n",
       "      <td>49</td>\n",
       "      <td>49</td>\n",
       "      <td>65</td>\n",
       "      <td>65</td>\n",
       "      <td>...</td>\n",
       "      <td>Green</td>\n",
       "      <td>True</td>\n",
       "      <td>0.875</td>\n",
       "      <td>Monster</td>\n",
       "      <td>Grass</td>\n",
       "      <td>False</td>\n",
       "      <td>0.71</td>\n",
       "      <td>6.9</td>\n",
       "      <td>45</td>\n",
       "      <td>quadruped</td>\n",
       "    </tr>\n",
       "    <tr>\n",
       "      <th>1</th>\n",
       "      <td>2</td>\n",
       "      <td>Ivysaur</td>\n",
       "      <td>Grass</td>\n",
       "      <td>Poison</td>\n",
       "      <td>405</td>\n",
       "      <td>60</td>\n",
       "      <td>62</td>\n",
       "      <td>63</td>\n",
       "      <td>80</td>\n",
       "      <td>80</td>\n",
       "      <td>...</td>\n",
       "      <td>Green</td>\n",
       "      <td>True</td>\n",
       "      <td>0.875</td>\n",
       "      <td>Monster</td>\n",
       "      <td>Grass</td>\n",
       "      <td>False</td>\n",
       "      <td>0.99</td>\n",
       "      <td>13.0</td>\n",
       "      <td>45</td>\n",
       "      <td>quadruped</td>\n",
       "    </tr>\n",
       "    <tr>\n",
       "      <th>2</th>\n",
       "      <td>3</td>\n",
       "      <td>Venusaur</td>\n",
       "      <td>Grass</td>\n",
       "      <td>Poison</td>\n",
       "      <td>525</td>\n",
       "      <td>80</td>\n",
       "      <td>82</td>\n",
       "      <td>83</td>\n",
       "      <td>100</td>\n",
       "      <td>100</td>\n",
       "      <td>...</td>\n",
       "      <td>Green</td>\n",
       "      <td>True</td>\n",
       "      <td>0.875</td>\n",
       "      <td>Monster</td>\n",
       "      <td>Grass</td>\n",
       "      <td>True</td>\n",
       "      <td>2.01</td>\n",
       "      <td>100.0</td>\n",
       "      <td>45</td>\n",
       "      <td>quadruped</td>\n",
       "    </tr>\n",
       "    <tr>\n",
       "      <th>3</th>\n",
       "      <td>4</td>\n",
       "      <td>Charmander</td>\n",
       "      <td>Fire</td>\n",
       "      <td>NaN</td>\n",
       "      <td>309</td>\n",
       "      <td>39</td>\n",
       "      <td>52</td>\n",
       "      <td>43</td>\n",
       "      <td>60</td>\n",
       "      <td>50</td>\n",
       "      <td>...</td>\n",
       "      <td>Red</td>\n",
       "      <td>True</td>\n",
       "      <td>0.875</td>\n",
       "      <td>Monster</td>\n",
       "      <td>Dragon</td>\n",
       "      <td>False</td>\n",
       "      <td>0.61</td>\n",
       "      <td>8.5</td>\n",
       "      <td>45</td>\n",
       "      <td>bipedal_tailed</td>\n",
       "    </tr>\n",
       "    <tr>\n",
       "      <th>4</th>\n",
       "      <td>5</td>\n",
       "      <td>Charmeleon</td>\n",
       "      <td>Fire</td>\n",
       "      <td>NaN</td>\n",
       "      <td>405</td>\n",
       "      <td>58</td>\n",
       "      <td>64</td>\n",
       "      <td>58</td>\n",
       "      <td>80</td>\n",
       "      <td>65</td>\n",
       "      <td>...</td>\n",
       "      <td>Red</td>\n",
       "      <td>True</td>\n",
       "      <td>0.875</td>\n",
       "      <td>Monster</td>\n",
       "      <td>Dragon</td>\n",
       "      <td>False</td>\n",
       "      <td>1.09</td>\n",
       "      <td>19.0</td>\n",
       "      <td>45</td>\n",
       "      <td>bipedal_tailed</td>\n",
       "    </tr>\n",
       "  </tbody>\n",
       "</table>\n",
       "<p>5 rows × 23 columns</p>\n",
       "</div>"
      ],
      "text/plain": [
       "   Number        Name Type_1  Type_2  Total  HP  Attack  Defense  Sp_Atk  \\\n",
       "0       1   Bulbasaur  Grass  Poison    318  45      49       49      65   \n",
       "1       2     Ivysaur  Grass  Poison    405  60      62       63      80   \n",
       "2       3    Venusaur  Grass  Poison    525  80      82       83     100   \n",
       "3       4  Charmander   Fire     NaN    309  39      52       43      60   \n",
       "4       5  Charmeleon   Fire     NaN    405  58      64       58      80   \n",
       "\n",
       "   Sp_Def       ...        Color  hasGender  Pr_Male Egg_Group_1  Egg_Group_2  \\\n",
       "0      65       ...        Green       True    0.875     Monster        Grass   \n",
       "1      80       ...        Green       True    0.875     Monster        Grass   \n",
       "2     100       ...        Green       True    0.875     Monster        Grass   \n",
       "3      50       ...          Red       True    0.875     Monster       Dragon   \n",
       "4      65       ...          Red       True    0.875     Monster       Dragon   \n",
       "\n",
       "   hasMegaEvolution Height_m Weight_kg  Catch_Rate      Body_Style  \n",
       "0             False     0.71       6.9          45       quadruped  \n",
       "1             False     0.99      13.0          45       quadruped  \n",
       "2              True     2.01     100.0          45       quadruped  \n",
       "3             False     0.61       8.5          45  bipedal_tailed  \n",
       "4             False     1.09      19.0          45  bipedal_tailed  \n",
       "\n",
       "[5 rows x 23 columns]"
      ]
     },
     "execution_count": 2,
     "metadata": {},
     "output_type": "execute_result"
    }
   ],
   "source": [
    "df = pd.read_csv('pokemon_alopez247.csv')\n",
    "df.head()"
   ]
  },
  {
   "cell_type": "code",
   "execution_count": 3,
   "metadata": {
    "scrolled": true
   },
   "outputs": [],
   "source": [
    "TotalAtt = df.iloc[:,[4,6]].values\n",
    "#TotalHP = df.iloc[:, [4,5]].values"
   ]
  },
  {
   "cell_type": "code",
   "execution_count": 4,
   "metadata": {},
   "outputs": [
    {
     "data": {
      "image/png": "[encoded data removed]",
      "text/plain": [
       "<matplotlib.figure.Figure at 0x111f14048>"
      ]
     },
     "metadata": {},
     "output_type": "display_data"
    }
   ],
   "source": [
    "import scipy.cluster.hierarchy as sch\n",
    "dendrogram = sch.dendrogram(sch.linkage(TotalAtt, method = 'ward'))\n",
    "plt.title('Dendrogram')\n",
    "plt.xlabel('Total')\n",
    "plt.ylabel('Attack')\n",
    "plt.show()"
   ]
  },
  {
   "cell_type": "code",
   "execution_count": 5,
   "metadata": {},
   "outputs": [],
   "source": [
    "# Fitting hierarchial clustering to the mall dataset \n",
    "from sklearn.cluster import AgglomerativeClustering\n",
    "# affinity = type of distance to do linkage\n",
    "hc = AgglomerativeClustering(n_clusters = 5, affinity = 'euclidean', linkage = 'ward')\n",
    "# fit_predict(X) = Performs clustering on X and returns cluster labels.\n",
    "TotalAtt_hc = hc.fit_predict(TotalAtt)"
   ]
  },
  {
   "cell_type": "code",
   "execution_count": 6,
   "metadata": {},
   "outputs": [
    {
     "data": {
      "image/png": "[encoded data removed]",
      "text/plain": [
       "<matplotlib.figure.Figure at 0x111502b38>"
      ]
     },
     "metadata": {},
     "output_type": "display_data"
    }
   ],
   "source": [
    "# Visualising the clusters\n",
    "# Graph clusters\n",
    "# plt.scatter(x = Annual Income,y = Spending Score,s = size, c = color, label = 'whatever you want')\n",
    "plt.scatter(TotalAtt[TotalAtt_hc == 0,0], TotalAtt[TotalAtt_hc == 0,1], s = 100, c = 'red', label = 'Cluster 1')\n",
    "plt.scatter(TotalAtt[TotalAtt_hc == 1,0], TotalAtt[TotalAtt_hc == 1,1], s = 100, c = 'blue', label = 'Cluster 2')\n",
    "plt.scatter(TotalAtt[TotalAtt_hc == 2,0], TotalAtt[TotalAtt_hc == 2,1], s = 100, c = 'green', label = 'Cluster 3')\n",
    "plt.scatter(TotalAtt[TotalAtt_hc == 3,0], TotalAtt[TotalAtt_hc == 3,1], s = 100, c = 'cyan', label = 'Cluster 4')\n",
    "plt.scatter(TotalAtt[TotalAtt_hc == 4,0], TotalAtt[TotalAtt_hc == 4,1], s = 100, c = 'magenta', label = 'Cluster 5')\n",
    "plt.title('Cluster of Pokemon')\n",
    "plt.xlabel('Total')\n",
    "plt.ylabel('Attack')\n",
    "plt.legend()\n",
    "plt.show()"
   ]
  },
  {
   "cell_type": "markdown",
   "metadata": {},
   "source": [
    "Pokemon with higher total tend to have higher attack"
   ]
  },
  {
   "cell_type": "markdown",
   "metadata": {},
   "source": [
    "Use one-hot-encoding from sckit-learn to numerate the types. Then use k-means clustering with numerated types and attack power"
   ]
  },
  {
   "cell_type": "code",
   "execution_count": 7,
   "metadata": {},
   "outputs": [
    {
     "data": {
      "text/plain": [
       "18"
      ]
     },
     "execution_count": 7,
     "metadata": {},
     "output_type": "execute_result"
    }
   ],
   "source": [
    "# Find number of unique types for encoding\n",
    "len(df['Type_1'].unique())"
   ]
  },
  {
   "cell_type": "code",
   "execution_count": 8,
   "metadata": {},
   "outputs": [],
   "source": [
    "# changed the types\n",
    "from sklearn.preprocessing import LabelEncoder\n",
    "le = LabelEncoder()\n",
    "df.iloc[:,2] = le.fit_transform(df.iloc[:, 2].values)"
   ]
  },
  {
   "cell_type": "code",
   "execution_count": 9,
   "metadata": {},
   "outputs": [],
   "source": [
    "TypeAtt = df.iloc[:,[2,6]].values"
   ]
  },
  {
   "cell_type": "code",
   "execution_count": 10,
   "metadata": {
    "scrolled": true
   },
   "outputs": [
    {
     "data": {
      "image/png": "[encoded data removed]",
      "text/plain": [
       "<matplotlib.figure.Figure at 0x118858c50>"
      ]
     },
     "metadata": {},
     "output_type": "display_data"
    }
   ],
   "source": [
    "#find optimal number of clusters\n",
    "from sklearn.cluster import KMeans\n",
    "#within cluster sum of squares\n",
    "wcss = []\n",
    "# init = initialization method \n",
    "# max_iter = maximum number of iterations to find final cluster when kmeans algo is running\n",
    "# n_init = number of times the kmeans algo run with different centroid\n",
    "for i in range(1,11):\n",
    "    kmeans = KMeans(n_clusters = i, init = 'k-means++', max_iter = 300, n_init = 10, random_state = 0)\n",
    "    kmeans.fit(TypeAtt)\n",
    "    # kmeans.inertia helps compute the sum \n",
    "    wcss.append(kmeans.inertia_)\n",
    "plt.plot(range(1,11),wcss)\n",
    "plt.title('The Elbow Method')\n",
    "plt.xlabel('Number of clusters')\n",
    "plt.ylabel('WCSS')\n",
    "plt.show()"
   ]
  },
  {
   "cell_type": "code",
   "execution_count": 11,
   "metadata": {
    "collapsed": true
   },
   "outputs": [],
   "source": [
    "# Applying k-means in the mall dataset\n",
    "kmeans = KMeans(n_clusters = 4, init = 'k-means++', max_iter = 300, n_init = 10, random_state = 0)\n",
    "# fit_predict() = Compute cluster centers and predict cluster index for each sample.\n",
    "TypeAtt_kmeans = kmeans.fit_predict(TypeAtt)"
   ]
  },
  {
   "cell_type": "code",
   "execution_count": 12,
   "metadata": {},
   "outputs": [
    {
     "data": {
      "image/png": "[encoded data removed]",
      "text/plain": [
       "<matplotlib.figure.Figure at 0x117aab518>"
      ]
     },
     "metadata": {},
     "output_type": "display_data"
    }
   ],
   "source": [
    "# Graph clusters\n",
    "# plt.scatter(x = Annual Income,y = Spending Score,s = size, c = color, label = 'whatever you want')\n",
    "plt.scatter(TypeAtt[TypeAtt_kmeans == 0,0], TypeAtt[TypeAtt_kmeans == 0,1], s = 10, c = 'red', label = 'Cluster 1')\n",
    "plt.scatter(TypeAtt[TypeAtt_kmeans == 1,0], TypeAtt[TypeAtt_kmeans == 1,1], s = 10, c = 'blue', label = 'Cluster 2')\n",
    "plt.scatter(TypeAtt[TypeAtt_kmeans == 2,0], TypeAtt[TypeAtt_kmeans == 2,1], s = 10, c = 'green', label = 'Cluster 3')\n",
    "plt.scatter(TypeAtt[TypeAtt_kmeans == 3,0], TypeAtt[TypeAtt_kmeans == 3,1], s = 10, c = 'purple', label = 'Cluster 3')\n",
    "plt.scatter(kmeans.cluster_centers_[:,0], kmeans.cluster_centers_[:,1], s = 20, c = 'yellow', label = 'Centroids')\n",
    "plt.title('Type vs Att')\n",
    "plt.xlabel('Type')\n",
    "plt.ylabel('Attack')\n",
    "plt.show()"
   ]
  },
  {
   "cell_type": "markdown",
   "metadata": {},
   "source": [
    "Acknowledgements\n",
    "\n",
    "As said at the beginning, this database was based on the Kaggle database \"721 Pokemon with stats\" by Alberto Barradas (https://www.kaggle.com/abcsds/pokemon). The other resources I mainly used are listed below:\n",
    "\n",
    "WikiDex (http://es.pokemon.wikia.com/wiki/WikiDex).\n",
    "\n",
    "Bulbapedia, the community driven Pokémon encyclopedia (http://bulbapedia.bulbagarden.net/wiki/Main_Page).\n",
    "\n",
    "Smogon University (http://www.smogon.com/).\n",
    "\n",
    "Possible future work\n",
    "This dataset can be used with different objectives, such as, Pokémon clustering, trying to find relations or dependencies between the variables, and also for supervised classification purposes, where the class could be the Primary Type, but also many of the other variables.\n",
    "\n",
    "Author\n",
    "Asier López Zorrilla"
   ]
  }
 ],
 "metadata": {
  "kernelspec": {
   "display_name": "Python 3",
   "language": "python",
   "name": "python3"
  },
  "language_info": {
   "codemirror_mode": {
    "name": "ipython",
    "version": 3
   },
   "file_extension": ".py",
   "mimetype": "text/x-python",
   "name": "python",
   "nbconvert_exporter": "python",
   "pygments_lexer": "ipython3",
   "version": "3.6.3"
  }
 },
 "nbformat": 4,
 "nbformat_minor": 2
}
